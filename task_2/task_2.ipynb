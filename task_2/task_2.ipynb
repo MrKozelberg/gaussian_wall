{
 "cells": [
  {
   "cell_type": "code",
   "execution_count": 1,
   "id": "bc8be30a",
   "metadata": {
    "ExecuteTime": {
     "end_time": "2022-12-05T20:02:41.568552Z",
     "start_time": "2022-12-05T20:02:40.101938Z"
    }
   },
   "outputs": [],
   "source": [
    "import numpy as np\n",
    "import scipy\n",
    "\n",
    "import matplotlib.pyplot as plt\n",
    "import matplotlib.colors as colors\n",
    "import matplotlib.cbook as cbook\n",
    "from matplotlib import cm\n",
    "    \n",
    "from datetime import datetime\n",
    "import time"
   ]
  },
  {
   "cell_type": "code",
   "execution_count": 2,
   "id": "4221d44a",
   "metadata": {
    "ExecuteTime": {
     "end_time": "2022-12-05T20:02:42.027883Z",
     "start_time": "2022-12-05T20:02:41.978518Z"
    }
   },
   "outputs": [],
   "source": [
    "class OrthogonalCollocations:\n",
    "    \n",
    "    def __init__(self, V_0, R, M):\n",
    "        self.V_0 = V_0\n",
    "        self.R = R\n",
    "        self.M = M\n",
    "        \n",
    "        # grid points\n",
    "        self.x = np.linspace(-R, R, M+1)\n",
    "        self.delta = self.x[1] - self.x[0]\n",
    "        \n",
    "        # collocation points\n",
    "        self.x_c = np.zeros(2*self.M)\n",
    "        self.x_c[::2] = self.x[:-1] + self.delta/2 * (1 - 1/np.sqrt(3))\n",
    "        self.x_c[1::2] = self.x[:-1] + self.delta/2 * (1 + 1/np.sqrt(3))\n",
    "        \n",
    "    \n",
    "    def V(self, x):\n",
    "        return self.V_0 * np.exp(-x**2)\n",
    "    \n",
    "    \n",
    "    # functions in S_{3,2}\n",
    "    def phi(self, k, x_):\n",
    "        if x_ > self.x[k] - self.delta and x_ <= self.x[k]:\n",
    "            return -2/self.delta**3 * (x_-self.x[k])**3 - 3/self.delta**2 * (x_-self.x[k])**2 + 1\n",
    "        elif x_ > self.x[k] and x_ <= self.x[k] + self.delta:\n",
    "            return 2/self.delta**3 * (x_-self.x[k])**3 - 3/self.delta**2 * (x_-self.x[k])**2 + 1\n",
    "        else:\n",
    "            return 0.0\n",
    "        \n",
    "    def psi(self, k, x_):\n",
    "        if x_ > self.x[k] - self.delta and x_ <= self.x[k]:\n",
    "            return 1/self.delta**2 * (x_-self.x[k])**3 + 2/self.delta * (x_-self.x[k])**2 + (x_-self.x[k])\n",
    "        elif x_ > self.x[k] and x_ <= self.x[k] + self.delta:\n",
    "            return 1/self.delta**2 * (x_-self.x[k])**3 - 2/self.delta * (x_-self.x[k])**2 + (x_-self.x[k])\n",
    "        else:\n",
    "            return 0.0\n",
    "    \n",
    "    \n",
    "    # second derivatives of these functions\n",
    "    def phi_xx(self, k, x_):\n",
    "        if x_ > self.x[k] - self.delta and x_ <= self.x[k]:\n",
    "            return -12/self.delta**3 * (x_-self.x[k]) - 6/self.delta**2\n",
    "        elif x_ > self.x[k] and x_ <= self.x[k] + self.delta:\n",
    "            return 12/self.delta**3 * (x_-self.x[k]) - 6/self.delta**2\n",
    "        else:\n",
    "            return 0.0\n",
    "\n",
    "        \n",
    "    def psi_xx(self, k, x_):\n",
    "        if x_ > self.x[k] - self.delta and x_ <= self.x[k]:\n",
    "            return 6/self.delta**2 * (x_-self.x[k]) + 4/self.delta\n",
    "        elif x_ > self.x[k] and x_ <= self.x[k] + self.delta:\n",
    "            return 6/self.delta**2 * (x_-self.x[k]) - 4/self.delta\n",
    "        else:\n",
    "            return 0.0\n",
    "\n",
    "\n",
    "    # functions that form something like basis in S_{3,2}\n",
    "    def S(self, l, x_):\n",
    "        if l == 0 or l == 2*self.M:\n",
    "            return self.psi(l//2, x_)\n",
    "        elif l % 2 == 1:\n",
    "            return self.psi((l+1)//2, x_)\n",
    "        else:\n",
    "            return self.phi(l//2, x_)\n",
    "\n",
    "        \n",
    "    # and their second derivatives\n",
    "    def S_xx(self, l, x_):\n",
    "        if l == 0 or l == 2*self.M:\n",
    "            return self.psi_xx(l//2, x_)\n",
    "        elif l % 2 == 1:\n",
    "            return self.psi_xx((l+1)//2, x_)\n",
    "        else:\n",
    "            return self.phi_xx(l//2, x_)\n",
    "    \n",
    "    \n",
    "    def eigvals(self):\n",
    "        A = np.zeros((2*self.M, 2*self.M))\n",
    "        B = np.zeros((2*self.M, 2*self.M))\n",
    "\n",
    "        for l in range(2*self.M):\n",
    "            for t in range(2*self.M):\n",
    "                A[l,t] = -self.S_xx(l, self.x_c[t]) + self.V(self.x_c[t]) * self.S(l, self.x_c[t])\n",
    "                B[l,t] = self.S(l, self.x_c[t]) \n",
    "\n",
    "        Mat = scipy.linalg.inv(B) @ A\n",
    "        \n",
    "        eigvals = np.sort(scipy.linalg.eigvals(Mat))\n",
    "        \n",
    "        return eigvals[(eigvals<0.0)*(eigvals>self.V_0)]\n",
    "    \n",
    "    def fast_eigvals(self):\n",
    "        A = np.zeros((2*self.M, 2*self.M))\n",
    "        B = np.zeros((2*self.M, 2*self.M))\n",
    "\n",
    "        for l in range(2*self.M):\n",
    "            for t in range(2*self.M):\n",
    "                A[l,t] = -self.S_xx(l, self.x_c[t]) + self.V(self.x_c[t]) * self.S(l, self.x_c[t])\n",
    "                B[l,t] = self.S(l, self.x_c[t]) \n",
    "                \n",
    "        w = scipy.sparse.linalg.eigs(A, k=6, M=B, sigma=self.V_0, return_eigenvectors=False)\n",
    "        \n",
    "        return w[(w>self.V_0)*(w<0.0)]       "
   ]
  },
  {
   "cell_type": "markdown",
   "id": "335a633c",
   "metadata": {},
   "source": [
    "# Task 1"
   ]
  },
  {
   "cell_type": "code",
   "execution_count": 3,
   "id": "e25fafe2",
   "metadata": {
    "ExecuteTime": {
     "end_time": "2022-12-05T20:05:14.459078Z",
     "start_time": "2022-12-05T20:02:43.964180Z"
    },
    "scrolled": true
   },
   "outputs": [
    {
     "name": "stdout",
     "output_type": "stream",
     "text": [
      "0\n",
      "5\n",
      "10\n",
      "15\n",
      "20\n",
      "25\n",
      "30\n",
      "35\n",
      "40\n",
      "45\n"
     ]
    },
    {
     "ename": "KeyboardInterrupt",
     "evalue": "",
     "output_type": "error",
     "traceback": [
      "\u001b[0;31m---------------------------------------------------------------------------\u001b[0m",
      "\u001b[0;31mKeyboardInterrupt\u001b[0m                         Traceback (most recent call last)",
      "\u001b[0;32m/tmp/ipykernel_7698/999091484.py\u001b[0m in \u001b[0;36m<cell line: 4>\u001b[0;34m()\u001b[0m\n\u001b[1;32m      4\u001b[0m \u001b[0;32mfor\u001b[0m \u001b[0mi\u001b[0m \u001b[0;32min\u001b[0m \u001b[0mrange\u001b[0m\u001b[0;34m(\u001b[0m\u001b[0mlen\u001b[0m\u001b[0;34m(\u001b[0m\u001b[0mn\u001b[0m\u001b[0;34m)\u001b[0m\u001b[0;34m)\u001b[0m\u001b[0;34m:\u001b[0m\u001b[0;34m\u001b[0m\u001b[0;34m\u001b[0m\u001b[0m\n\u001b[1;32m      5\u001b[0m     \u001b[0moc\u001b[0m \u001b[0;34m=\u001b[0m \u001b[0mOrthogonalCollocations\u001b[0m\u001b[0;34m(\u001b[0m\u001b[0mv0\u001b[0m\u001b[0;34m[\u001b[0m\u001b[0mi\u001b[0m\u001b[0;34m]\u001b[0m\u001b[0;34m,\u001b[0m \u001b[0;36m20\u001b[0m\u001b[0;34m,\u001b[0m \u001b[0;36m300\u001b[0m\u001b[0;34m)\u001b[0m\u001b[0;34m\u001b[0m\u001b[0;34m\u001b[0m\u001b[0m\n\u001b[0;32m----> 6\u001b[0;31m     \u001b[0mn\u001b[0m\u001b[0;34m[\u001b[0m\u001b[0mi\u001b[0m\u001b[0;34m]\u001b[0m \u001b[0;34m=\u001b[0m \u001b[0mlen\u001b[0m\u001b[0;34m(\u001b[0m\u001b[0moc\u001b[0m\u001b[0;34m.\u001b[0m\u001b[0mfast_eigvals\u001b[0m\u001b[0;34m(\u001b[0m\u001b[0;34m)\u001b[0m\u001b[0;34m)\u001b[0m\u001b[0;34m\u001b[0m\u001b[0;34m\u001b[0m\u001b[0m\n\u001b[0m\u001b[1;32m      7\u001b[0m \u001b[0;31m#     n[i] = len(oc.eigvals())\u001b[0m\u001b[0;34m\u001b[0m\u001b[0;34m\u001b[0m\u001b[0m\n\u001b[1;32m      8\u001b[0m     \u001b[0;32mif\u001b[0m \u001b[0mi\u001b[0m \u001b[0;34m%\u001b[0m \u001b[0;36m5\u001b[0m \u001b[0;34m==\u001b[0m \u001b[0;36m0\u001b[0m\u001b[0;34m:\u001b[0m \u001b[0mprint\u001b[0m\u001b[0;34m(\u001b[0m\u001b[0mi\u001b[0m\u001b[0;34m)\u001b[0m\u001b[0;34m\u001b[0m\u001b[0;34m\u001b[0m\u001b[0m\n",
      "\u001b[0;32m/tmp/ipykernel_7698/3121091618.py\u001b[0m in \u001b[0;36mfast_eigvals\u001b[0;34m(self)\u001b[0m\n\u001b[1;32m     98\u001b[0m         \u001b[0;32mfor\u001b[0m \u001b[0ml\u001b[0m \u001b[0;32min\u001b[0m \u001b[0mrange\u001b[0m\u001b[0;34m(\u001b[0m\u001b[0;36m2\u001b[0m\u001b[0;34m*\u001b[0m\u001b[0mself\u001b[0m\u001b[0;34m.\u001b[0m\u001b[0mM\u001b[0m\u001b[0;34m)\u001b[0m\u001b[0;34m:\u001b[0m\u001b[0;34m\u001b[0m\u001b[0;34m\u001b[0m\u001b[0m\n\u001b[1;32m     99\u001b[0m             \u001b[0;32mfor\u001b[0m \u001b[0mt\u001b[0m \u001b[0;32min\u001b[0m \u001b[0mrange\u001b[0m\u001b[0;34m(\u001b[0m\u001b[0;36m2\u001b[0m\u001b[0;34m*\u001b[0m\u001b[0mself\u001b[0m\u001b[0;34m.\u001b[0m\u001b[0mM\u001b[0m\u001b[0;34m)\u001b[0m\u001b[0;34m:\u001b[0m\u001b[0;34m\u001b[0m\u001b[0;34m\u001b[0m\u001b[0m\n\u001b[0;32m--> 100\u001b[0;31m                 \u001b[0mA\u001b[0m\u001b[0;34m[\u001b[0m\u001b[0ml\u001b[0m\u001b[0;34m,\u001b[0m\u001b[0mt\u001b[0m\u001b[0;34m]\u001b[0m \u001b[0;34m=\u001b[0m \u001b[0;34m-\u001b[0m\u001b[0mself\u001b[0m\u001b[0;34m.\u001b[0m\u001b[0mS_xx\u001b[0m\u001b[0;34m(\u001b[0m\u001b[0ml\u001b[0m\u001b[0;34m,\u001b[0m \u001b[0mself\u001b[0m\u001b[0;34m.\u001b[0m\u001b[0mx_c\u001b[0m\u001b[0;34m[\u001b[0m\u001b[0mt\u001b[0m\u001b[0;34m]\u001b[0m\u001b[0;34m)\u001b[0m \u001b[0;34m+\u001b[0m \u001b[0mself\u001b[0m\u001b[0;34m.\u001b[0m\u001b[0mV\u001b[0m\u001b[0;34m(\u001b[0m\u001b[0mself\u001b[0m\u001b[0;34m.\u001b[0m\u001b[0mx_c\u001b[0m\u001b[0;34m[\u001b[0m\u001b[0mt\u001b[0m\u001b[0;34m]\u001b[0m\u001b[0;34m)\u001b[0m \u001b[0;34m*\u001b[0m \u001b[0mself\u001b[0m\u001b[0;34m.\u001b[0m\u001b[0mS\u001b[0m\u001b[0;34m(\u001b[0m\u001b[0ml\u001b[0m\u001b[0;34m,\u001b[0m \u001b[0mself\u001b[0m\u001b[0;34m.\u001b[0m\u001b[0mx_c\u001b[0m\u001b[0;34m[\u001b[0m\u001b[0mt\u001b[0m\u001b[0;34m]\u001b[0m\u001b[0;34m)\u001b[0m\u001b[0;34m\u001b[0m\u001b[0;34m\u001b[0m\u001b[0m\n\u001b[0m\u001b[1;32m    101\u001b[0m                 \u001b[0mB\u001b[0m\u001b[0;34m[\u001b[0m\u001b[0ml\u001b[0m\u001b[0;34m,\u001b[0m\u001b[0mt\u001b[0m\u001b[0;34m]\u001b[0m \u001b[0;34m=\u001b[0m \u001b[0mself\u001b[0m\u001b[0;34m.\u001b[0m\u001b[0mS\u001b[0m\u001b[0;34m(\u001b[0m\u001b[0ml\u001b[0m\u001b[0;34m,\u001b[0m \u001b[0mself\u001b[0m\u001b[0;34m.\u001b[0m\u001b[0mx_c\u001b[0m\u001b[0;34m[\u001b[0m\u001b[0mt\u001b[0m\u001b[0;34m]\u001b[0m\u001b[0;34m)\u001b[0m\u001b[0;34m\u001b[0m\u001b[0;34m\u001b[0m\u001b[0m\n\u001b[1;32m    102\u001b[0m \u001b[0;34m\u001b[0m\u001b[0m\n",
      "\u001b[0;32m/tmp/ipykernel_7698/3121091618.py\u001b[0m in \u001b[0;36mS_xx\u001b[0;34m(self, l, x_)\u001b[0m\n\u001b[1;32m     72\u001b[0m             \u001b[0;32mreturn\u001b[0m \u001b[0mself\u001b[0m\u001b[0;34m.\u001b[0m\u001b[0mpsi_xx\u001b[0m\u001b[0;34m(\u001b[0m\u001b[0ml\u001b[0m\u001b[0;34m//\u001b[0m\u001b[0;36m2\u001b[0m\u001b[0;34m,\u001b[0m \u001b[0mx_\u001b[0m\u001b[0;34m)\u001b[0m\u001b[0;34m\u001b[0m\u001b[0;34m\u001b[0m\u001b[0m\n\u001b[1;32m     73\u001b[0m         \u001b[0;32melif\u001b[0m \u001b[0ml\u001b[0m \u001b[0;34m%\u001b[0m \u001b[0;36m2\u001b[0m \u001b[0;34m==\u001b[0m \u001b[0;36m1\u001b[0m\u001b[0;34m:\u001b[0m\u001b[0;34m\u001b[0m\u001b[0;34m\u001b[0m\u001b[0m\n\u001b[0;32m---> 74\u001b[0;31m             \u001b[0;32mreturn\u001b[0m \u001b[0mself\u001b[0m\u001b[0;34m.\u001b[0m\u001b[0mpsi_xx\u001b[0m\u001b[0;34m(\u001b[0m\u001b[0;34m(\u001b[0m\u001b[0ml\u001b[0m\u001b[0;34m+\u001b[0m\u001b[0;36m1\u001b[0m\u001b[0;34m)\u001b[0m\u001b[0;34m//\u001b[0m\u001b[0;36m2\u001b[0m\u001b[0;34m,\u001b[0m \u001b[0mx_\u001b[0m\u001b[0;34m)\u001b[0m\u001b[0;34m\u001b[0m\u001b[0;34m\u001b[0m\u001b[0m\n\u001b[0m\u001b[1;32m     75\u001b[0m         \u001b[0;32melse\u001b[0m\u001b[0;34m:\u001b[0m\u001b[0;34m\u001b[0m\u001b[0;34m\u001b[0m\u001b[0m\n\u001b[1;32m     76\u001b[0m             \u001b[0;32mreturn\u001b[0m \u001b[0mself\u001b[0m\u001b[0;34m.\u001b[0m\u001b[0mphi_xx\u001b[0m\u001b[0;34m(\u001b[0m\u001b[0ml\u001b[0m\u001b[0;34m//\u001b[0m\u001b[0;36m2\u001b[0m\u001b[0;34m,\u001b[0m \u001b[0mx_\u001b[0m\u001b[0;34m)\u001b[0m\u001b[0;34m\u001b[0m\u001b[0;34m\u001b[0m\u001b[0m\n",
      "\u001b[0;32m/tmp/ipykernel_7698/3121091618.py\u001b[0m in \u001b[0;36mpsi_xx\u001b[0;34m(self, k, x_)\u001b[0m\n\u001b[1;32m     49\u001b[0m \u001b[0;34m\u001b[0m\u001b[0m\n\u001b[1;32m     50\u001b[0m     \u001b[0;32mdef\u001b[0m \u001b[0mpsi_xx\u001b[0m\u001b[0;34m(\u001b[0m\u001b[0mself\u001b[0m\u001b[0;34m,\u001b[0m \u001b[0mk\u001b[0m\u001b[0;34m,\u001b[0m \u001b[0mx_\u001b[0m\u001b[0;34m)\u001b[0m\u001b[0;34m:\u001b[0m\u001b[0;34m\u001b[0m\u001b[0;34m\u001b[0m\u001b[0m\n\u001b[0;32m---> 51\u001b[0;31m         \u001b[0;32mif\u001b[0m \u001b[0mx_\u001b[0m \u001b[0;34m>\u001b[0m \u001b[0mself\u001b[0m\u001b[0;34m.\u001b[0m\u001b[0mx\u001b[0m\u001b[0;34m[\u001b[0m\u001b[0mk\u001b[0m\u001b[0;34m]\u001b[0m \u001b[0;34m-\u001b[0m \u001b[0mself\u001b[0m\u001b[0;34m.\u001b[0m\u001b[0mdelta\u001b[0m \u001b[0;32mand\u001b[0m \u001b[0mx_\u001b[0m \u001b[0;34m<=\u001b[0m \u001b[0mself\u001b[0m\u001b[0;34m.\u001b[0m\u001b[0mx\u001b[0m\u001b[0;34m[\u001b[0m\u001b[0mk\u001b[0m\u001b[0;34m]\u001b[0m\u001b[0;34m:\u001b[0m\u001b[0;34m\u001b[0m\u001b[0;34m\u001b[0m\u001b[0m\n\u001b[0m\u001b[1;32m     52\u001b[0m             \u001b[0;32mreturn\u001b[0m \u001b[0;36m6\u001b[0m\u001b[0;34m/\u001b[0m\u001b[0mself\u001b[0m\u001b[0;34m.\u001b[0m\u001b[0mdelta\u001b[0m\u001b[0;34m**\u001b[0m\u001b[0;36m2\u001b[0m \u001b[0;34m*\u001b[0m \u001b[0;34m(\u001b[0m\u001b[0mx_\u001b[0m\u001b[0;34m-\u001b[0m\u001b[0mself\u001b[0m\u001b[0;34m.\u001b[0m\u001b[0mx\u001b[0m\u001b[0;34m[\u001b[0m\u001b[0mk\u001b[0m\u001b[0;34m]\u001b[0m\u001b[0;34m)\u001b[0m \u001b[0;34m+\u001b[0m \u001b[0;36m4\u001b[0m\u001b[0;34m/\u001b[0m\u001b[0mself\u001b[0m\u001b[0;34m.\u001b[0m\u001b[0mdelta\u001b[0m\u001b[0;34m\u001b[0m\u001b[0;34m\u001b[0m\u001b[0m\n\u001b[1;32m     53\u001b[0m         \u001b[0;32melif\u001b[0m \u001b[0mx_\u001b[0m \u001b[0;34m>\u001b[0m \u001b[0mself\u001b[0m\u001b[0;34m.\u001b[0m\u001b[0mx\u001b[0m\u001b[0;34m[\u001b[0m\u001b[0mk\u001b[0m\u001b[0;34m]\u001b[0m \u001b[0;32mand\u001b[0m \u001b[0mx_\u001b[0m \u001b[0;34m<=\u001b[0m \u001b[0mself\u001b[0m\u001b[0;34m.\u001b[0m\u001b[0mx\u001b[0m\u001b[0;34m[\u001b[0m\u001b[0mk\u001b[0m\u001b[0;34m]\u001b[0m \u001b[0;34m+\u001b[0m \u001b[0mself\u001b[0m\u001b[0;34m.\u001b[0m\u001b[0mdelta\u001b[0m\u001b[0;34m:\u001b[0m\u001b[0;34m\u001b[0m\u001b[0;34m\u001b[0m\u001b[0m\n",
      "\u001b[0;31mKeyboardInterrupt\u001b[0m: "
     ]
    }
   ],
   "source": [
    "n = np.zeros(100)\n",
    "v0 = np.linspace(-20.0+1e-2, -1e-2, len(n))\n",
    "\n",
    "for i in range(len(n)):\n",
    "    oc = OrthogonalCollocations(v0[i], 20, 300)\n",
    "    n[i] = len(oc.fast_eigvals())\n",
    "#     n[i] = len(oc.eigvals())\n",
    "    if i % 5 == 0: print(i)"
   ]
  },
  {
   "cell_type": "code",
   "execution_count": 9,
   "id": "e232c7e7",
   "metadata": {},
   "outputs": [
    {
     "data": {
      "image/png": "[encoded data removed]",
      "text/plain": [
       "<Figure size 432x288 with 1 Axes>"
      ]
     },
     "metadata": {
      "needs_background": "light"
     },
     "output_type": "display_data"
    }
   ],
   "source": [
    "plt.plot(v0, n, linestyle='', marker='p', color='black', ms=3)\n",
    "plt.axvline(x=-2.684, color='black', linestyle='-', linewidth=1)\n",
    "plt.axvline(x=-8.650, color='black', linestyle='-', linewidth=1)\n",
    "plt.axvline(x=-17.796, color='black', linestyle='-', linewidth=1)\n",
    "\n",
    "plt.xlabel(r'$V_0$', fontsize=14)\n",
    "plt.ylabel('N', fontsize=14)\n",
    "\n",
    "plt.title(r'$M=300,\\; R=20$', fontsize=14)\n",
    "\n",
    "plt.yticks([0,1,2,3,4])\n",
    "plt.xlim(v0[0], 0)\n",
    "\n",
    "plt.grid(alpha=0.5)\n",
    "\n",
    "plt.savefig('figures/num_eigen_vs_v0.pdf')"
   ]
  },
  {
   "cell_type": "markdown",
   "id": "a606aee1",
   "metadata": {},
   "source": [
    "# Task 2"
   ]
  },
  {
   "cell_type": "code",
   "execution_count": 25,
   "id": "214877d6",
   "metadata": {},
   "outputs": [
    {
     "name": "stdout",
     "output_type": "stream",
     "text": [
      "m= 10 , t= 0:00:00.074147\n",
      "m= 30 , t= 0:00:00.043584\n",
      "m= 50 , t= 0:00:00.099850\n",
      "m= 70 , t= 0:00:00.295730\n",
      "m= 90 , t= 0:00:00.357650\n",
      "m= 111 , t= 0:00:01.781281\n",
      "m= 131 , t= 0:00:00.602604\n",
      "m= 151 , t= 0:00:00.784873\n",
      "m= 171 , t= 0:00:01.071690\n",
      "m= 191 , t= 0:00:01.359252\n",
      "m= 212 , t= 0:00:01.687975\n",
      "m= 232 , t= 0:00:01.854537\n",
      "m= 252 , t= 0:00:01.985119\n",
      "m= 272 , t= 0:00:02.362053\n",
      "m= 292 , t= 0:00:03.449430\n",
      "m= 313 , t= 0:00:03.485451\n",
      "m= 333 , t= 0:00:03.674254\n",
      "m= 353 , t= 0:00:04.305354\n",
      "m= 373 , t= 0:00:04.860402\n",
      "m= 393 , t= 0:00:04.851834\n",
      "m= 414 , t= 0:00:05.245998\n",
      "m= 434 , t= 0:00:05.715154\n",
      "m= 454 , t= 0:00:06.269247\n",
      "m= 474 , t= 0:00:06.652322\n",
      "m= 494 , t= 0:00:07.248607\n",
      "m= 515 , t= 0:00:07.965362\n",
      "m= 535 , t= 0:00:08.684563\n",
      "m= 555 , t= 0:00:09.127054\n",
      "m= 575 , t= 0:00:11.214614\n",
      "m= 595 , t= 0:00:11.095860\n",
      "m= 616 , t= 0:00:11.905875\n",
      "m= 636 , t= 0:00:13.040743\n",
      "m= 656 , t= 0:00:13.060873\n",
      "m= 676 , t= 0:00:13.525056\n",
      "m= 696 , t= 0:00:14.411787\n",
      "m= 717 , t= 0:00:15.098551\n",
      "m= 737 , t= 0:00:16.199942\n",
      "m= 757 , t= 0:00:18.681825\n",
      "m= 777 , t= 0:00:20.639037\n",
      "m= 797 , t= 0:00:19.678586\n",
      "m= 818 , t= 0:00:19.972477\n",
      "m= 838 , t= 0:00:20.820454\n",
      "m= 858 , t= 0:00:21.721775\n",
      "m= 878 , t= 0:00:22.363632\n",
      "m= 898 , t= 0:00:24.971983\n",
      "m= 919 , t= 0:00:27.096284\n",
      "m= 939 , t= 0:00:27.089555\n",
      "m= 959 , t= 0:00:32.484196\n",
      "m= 979 , t= 0:00:28.309409\n",
      "m= 1000 , t= 0:00:29.011984\n"
     ]
    }
   ],
   "source": [
    "m = np.linspace(10, 1000, dtype=int)\n",
    "t = [None] * len(m)\n",
    "\n",
    "print('m   t')\n",
    "\n",
    "for i in range(len(m)):\n",
    "    start_time = datetime.now()\n",
    "    \n",
    "    oc = OrthogonalCollocations(-1, 20, m[i])\n",
    "    eigvals = oc.fast_eigvals()\n",
    "#     eigvals = oc.eigvals()\n",
    "    \n",
    "    t[i] = datetime.now() - start_time\n",
    "    \n",
    "    print(m[i],t[i])\n",
    "    "
   ]
  },
  {
   "cell_type": "code",
   "execution_count": 28,
   "id": "64e17fad",
   "metadata": {},
   "outputs": [
    {
     "data": {
      "image/png": "[encoded data removed]",
      "text/plain": [
       "<Figure size 432x288 with 1 Axes>"
      ]
     },
     "metadata": {
      "needs_background": "light"
     },
     "output_type": "display_data"
    }
   ],
   "source": [
    "tt = [t_.seconds+t_.microseconds*1e-6 for t_ in t]\n",
    "\n",
    "p = np.poly1d(np.polyfit(m, tt, 2))\n",
    "mm = np.linspace(0, m[-1])\n",
    "\n",
    "plt.plot(m, tt, color='black', linewidth=1, label='Experimental results')\n",
    "\n",
    "plt.plot(mm, p(mm), color='red', linewidth=1, linestyle='--', label=r'$O(M^2)$')\n",
    "\n",
    "plt.xlabel(r'$M$', fontsize=14)\n",
    "plt.ylabel('T, sec', fontsize=14)\n",
    "\n",
    "plt.title(r'$V_0=-1,\\; R=20$', fontsize=14)\n",
    "\n",
    "plt.xlim(0, m[-1])\n",
    "plt.ylim(0, None)\n",
    "\n",
    "plt.grid(alpha=0.5)\n",
    "plt.legend()\n",
    "\n",
    "plt.savefig('figures/T_vs_M.pdf', bbox_inches='tight')"
   ]
  },
  {
   "cell_type": "markdown",
   "id": "8ca80eb8",
   "metadata": {},
   "source": [
    "# Task 3"
   ]
  },
  {
   "cell_type": "code",
   "execution_count": 20,
   "id": "b87d62b9",
   "metadata": {
    "ExecuteTime": {
     "end_time": "2022-12-05T20:28:22.066483Z",
     "start_time": "2022-12-05T20:23:19.518894Z"
    }
   },
   "outputs": [
    {
     "name": "stdout",
     "output_type": "stream",
     "text": [
      "0 0\n",
      "0 1\n",
      "0 2\n",
      "0 3\n",
      "0 4\n",
      "0 5\n",
      "0 6\n",
      "0 7\n",
      "0 8\n",
      "0 9\n",
      "1 0\n",
      "1 1\n",
      "1 2\n",
      "1 3\n",
      "1 4\n",
      "1 5\n",
      "1 6\n",
      "1 7\n",
      "1 8\n",
      "1 9\n",
      "2 0\n",
      "2 1\n",
      "2 2\n",
      "2 3\n",
      "2 4\n",
      "2 5\n",
      "2 6\n",
      "2 7\n",
      "2 8\n",
      "2 9\n",
      "3 0\n",
      "3 1\n",
      "3 2\n",
      "3 3\n",
      "3 4\n",
      "3 5\n",
      "3 6\n",
      "3 7\n",
      "3 8\n",
      "3 9\n",
      "4 0\n"
     ]
    },
    {
     "name": "stderr",
     "output_type": "stream",
     "text": [
      "/home/mrk/.local/lib/python3.10/site-packages/scipy/sparse/linalg/_eigen/arpack/arpack.py:857: RuntimeWarning: divide by zero encountered in divide\n",
      "  rd = 1 / (d - self.sigma)\n",
      "/home/mrk/.local/lib/python3.10/site-packages/scipy/sparse/linalg/_eigen/arpack/arpack.py:857: RuntimeWarning: invalid value encountered in divide\n",
      "  rd = 1 / (d - self.sigma)\n"
     ]
    },
    {
     "name": "stdout",
     "output_type": "stream",
     "text": [
      "4 1\n",
      "4 2\n",
      "4 3\n",
      "4 4\n",
      "4 5\n",
      "4 6\n",
      "4 7\n",
      "4 8\n",
      "4 9\n",
      "5 0\n",
      "5 1\n",
      "5 2\n",
      "5 3\n",
      "5 4\n",
      "5 5\n",
      "5 6\n",
      "5 7\n",
      "5 8\n",
      "5 9\n",
      "6 0\n",
      "6 1\n",
      "6 2\n",
      "6 3\n",
      "6 4\n",
      "6 5\n",
      "6 6\n",
      "6 7\n",
      "6 8\n",
      "6 9\n",
      "7 0\n",
      "7 1\n",
      "7 2\n",
      "7 3\n",
      "7 4\n",
      "7 5\n",
      "7 6\n",
      "7 7\n",
      "7 8\n",
      "7 9\n",
      "8 0\n",
      "8 1\n",
      "8 2\n",
      "8 3\n",
      "8 4\n",
      "8 5\n",
      "8 6\n",
      "8 7\n",
      "8 8\n",
      "8 9\n",
      "9 0\n",
      "9 1\n",
      "9 2\n",
      "9 3\n",
      "9 4\n",
      "9 5\n",
      "9 6\n",
      "9 7\n",
      "9 8\n",
      "9 9\n"
     ]
    }
   ],
   "source": [
    "e0 = np.full((10,10), np.nan)\n",
    "r = np.linspace(4,20, 10)\n",
    "m = np.linspace(10, 500, 10, dtype=int)\n",
    "\n",
    "# e_0_true = -0.3539907385825565\n",
    "\n",
    "for i in range(10):\n",
    "    for j in range(10):\n",
    "        oc = OrthogonalCollocations(-1, r[i], m[j])\n",
    "        eigvals = oc.fast_eigvals()\n",
    "        if len(eigvals) > 0:\n",
    "            e0[i,j] = eigvals[0].real\n",
    "        print(i,j)"
   ]
  },
  {
   "cell_type": "code",
   "execution_count": 24,
   "id": "29f03d33",
   "metadata": {
    "ExecuteTime": {
     "end_time": "2022-12-05T20:31:36.643677Z",
     "start_time": "2022-12-05T20:31:36.625077Z"
    }
   },
   "outputs": [],
   "source": [
    "e0_pres = np.zeros(len(e0))\n",
    "for i in range(len(e0)):\n",
    "    p = np.poly1d(np.polyfit(1/m[~np.isnan(e0[i,:])], abs(e0[i,~np.isnan(e0[i,:])]), 2))\n",
    "    e0_pres[i] = -p(0.0)"
   ]
  },
  {
   "cell_type": "code",
   "execution_count": 25,
   "id": "0233554c",
   "metadata": {
    "ExecuteTime": {
     "end_time": "2022-12-05T20:31:37.979824Z",
     "start_time": "2022-12-05T20:31:37.534824Z"
    }
   },
   "outputs": [
    {
     "data": {
      "image/png": "[encoded data removed]",
      "text/plain": [
       "<Figure size 432x288 with 1 Axes>"
      ]
     },
     "metadata": {
      "needs_background": "light"
     },
     "output_type": "display_data"
    }
   ],
   "source": [
    "plt.plot(r, e0_pres)\n",
    "plt.xlabel('R')\n",
    "plt.ylabel(r'$E_0$ extrapolated')\n",
    "plt.savefig('figures/E0_extrapolated.pdf', bbox_inches='tight')"
   ]
  },
  {
   "cell_type": "code",
   "execution_count": 26,
   "id": "c8aac925",
   "metadata": {
    "ExecuteTime": {
     "end_time": "2022-12-05T20:31:47.778281Z",
     "start_time": "2022-12-05T20:31:47.769654Z"
    }
   },
   "outputs": [],
   "source": [
    "z = np.abs([e0[i,:]-e0_pres[i] for i in range(len(e0))])\n",
    "z[z==0] = np.nan"
   ]
  },
  {
   "cell_type": "code",
   "execution_count": 16,
   "id": "eaecb05f",
   "metadata": {
    "ExecuteTime": {
     "end_time": "2022-12-05T20:19:05.099578Z",
     "start_time": "2022-12-05T20:19:04.300572Z"
    }
   },
   "outputs": [
    {
     "data": {
      "image/png": "[encoded data removed]",
      "text/plain": [
       "<Figure size 576x648 with 2 Axes>"
      ]
     },
     "metadata": {
      "needs_background": "light"
     },
     "output_type": "display_data"
    }
   ],
   "source": [
    "fig, ax = plt.subplots(1, 1, figsize=(8,9))\n",
    "\n",
    "pcm = ax.pcolormesh(2*r/m, r, z,\n",
    "                    norm=colors.LogNorm(vmin=np.nanmin(z),\n",
    "                                        vmax=np.nanmax(z)),\n",
    "                    )\n",
    "\n",
    "fig.colorbar(pcm, ax=ax, extend='max')\n",
    "\n",
    "ax.set_xlabel(r'$\\delta$', fontsize=14)\n",
    "ax.set_ylabel('R', fontsize=14)\n",
    "\n",
    "ax.set_title(r'Absolute Error of $E_0$', fontsize=14)\n",
    "\n",
    "fig.savefig('figures/abserr.pdf')"
   ]
  },
  {
   "cell_type": "code",
   "execution_count": 59,
   "id": "7e0d4938",
   "metadata": {},
   "outputs": [
    {
     "data": {
      "image/png": "[encoded data removed]",
      "text/plain": [
       "<Figure size 576x504 with 2 Axes>"
      ]
     },
     "metadata": {
      "needs_background": "light"
     },
     "output_type": "display_data"
    }
   ],
   "source": [
    "fig, ax = plt.subplots(1, 1, figsize=(8,7))\n",
    "\n",
    "pcm = ax.pcolormesh(r, m, np.abs(err), norm=colors.LogNorm(vmin=np.abs(err).min(),\n",
    "                                                          vmax=np.abs(err).max()),\n",
    "                    )\n",
    "fig.colorbar(pcm, ax=ax, extend='max')\n",
    "\n",
    "ax.set_xlabel('R', fontsize=14)\n",
    "ax.set_ylabel('M', fontsize=14)\n",
    "\n",
    "ax.set_title(r'Absolute Error of $E_0$', fontsize=14)\n",
    "\n",
    "fig.savefig('figures/abserr.pdf')"
   ]
  },
  {
   "cell_type": "code",
   "execution_count": null,
   "id": "d4f0b86a",
   "metadata": {},
   "outputs": [],
   "source": []
  }
 ],
 "metadata": {
  "kernelspec": {
   "display_name": "Python 3 (ipykernel)",
   "language": "python",
   "name": "python3"
  },
  "language_info": {
   "codemirror_mode": {
    "name": "ipython",
    "version": 3
   },
   "file_extension": ".py",
   "mimetype": "text/x-python",
   "name": "python",
   "nbconvert_exporter": "python",
   "pygments_lexer": "ipython3",
   "version": "3.10.8"
  }
 },
 "nbformat": 4,
 "nbformat_minor": 5
}
