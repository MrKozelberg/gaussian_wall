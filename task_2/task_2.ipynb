{
 "cells": [
  {
   "cell_type": "code",
   "execution_count": 2,
   "id": "bc8be30a",
   "metadata": {},
   "outputs": [],
   "source": [
    "import numpy as np\n",
    "import scipy\n",
    "import matplotlib.pyplot as plt"
   ]
  },
  {
   "cell_type": "code",
   "execution_count": 257,
   "id": "ddac4c33",
   "metadata": {},
   "outputs": [],
   "source": [
    "# constants\n",
    "V_0 = -5.0\n",
    "R = 10.0\n",
    "M = 50\n",
    "\n",
    "x = np.linspace(-R, R, M+1)\n",
    "delta = x[1] - x[0]"
   ]
  },
  {
   "cell_type": "code",
   "execution_count": 258,
   "id": "465d44ab",
   "metadata": {},
   "outputs": [],
   "source": [
    "def V(x):\n",
    "    return V_0 * np.exp(-x**2)\n",
    "\n",
    "# functions in S_{3,2}\n",
    "def psi(k, x_):\n",
    "    if x_ >= x[k] - delta and x_ < x[k] + delta:\n",
    "        return -1/delta**2 * (x_-x[k])**3 + (x_-x[k])\n",
    "    else:\n",
    "        return 0.0\n",
    "\n",
    "def phi(k, x_):\n",
    "    if x_ >= x[k] - delta and x_ < x[k] + delta:\n",
    "        return -1/delta**2 * (x_-x[k])**2 + 1\n",
    "    else:\n",
    "        return 0.0\n",
    "\n",
    "# second derivatives of these functions\n",
    "def psi_xx(k, x_):\n",
    "    if x_ >= x[k] - delta and x_ < x[k] + delta:\n",
    "        return -6/delta**2 * (x_-x[k])\n",
    "    else:\n",
    "        return 0.0\n",
    "\n",
    "def phi_xx(k, x_):\n",
    "    if x_ >= x[k] - delta and x_ < x[k] + delta:\n",
    "        return -2/delta**2\n",
    "    else:\n",
    "        return 0.0\n",
    "\n",
    "\n",
    "# functions that form something like basis in S_{3,2}\n",
    "def S(l, x_):\n",
    "    if l == 0 or l == 2*M:\n",
    "        return psi(l//2, x_)\n",
    "    elif l % 2 == 1:\n",
    "        return psi(int((l+1)/2), x_)\n",
    "    else:\n",
    "        return phi(int(l/2), x_)\n",
    "\n",
    "# and their second derivatives\n",
    "def S_xx(l, x_):\n",
    "    if l == 0 or l == 2*M:\n",
    "        return psi_xx(l//2, x_)\n",
    "    elif l % 2 == 1:\n",
    "        return psi_xx(int((l+1)/2), x_)\n",
    "    else:\n",
    "        return phi_xx(int(l/2), x_)"
   ]
  },
  {
   "cell_type": "code",
   "execution_count": 259,
   "id": "b4a8f9ba",
   "metadata": {},
   "outputs": [],
   "source": [
    "# collocation points\n",
    "x_c = np.zeros(2*M)\n",
    "\n",
    "x_c[::2] = x[:-1] + delta/2 - delta/2/np.sqrt(3)\n",
    "x_c[1::2] = x[:-1] + delta/2 + delta/2/np.sqrt(3)"
   ]
  },
  {
   "cell_type": "code",
   "execution_count": null,
   "id": "c52e730f",
   "metadata": {},
   "outputs": [],
   "source": [
    "A = np.zeros((2*M, 2*M))\n",
    "B = np.zeros((2*M, 2*M))\n",
    "\n"
   ]
  },
  {
   "cell_type": "code",
   "execution_count": 260,
   "id": "1382b07f",
   "metadata": {},
   "outputs": [],
   "source": [
    "def F(E):\n",
    "    # building the matrix\n",
    "    A = np.zeros((2*M, 2*M))\n",
    "    \n",
    "    for l in range(2*M):\n",
    "        for t in [l-2, l-1, l, l+1, l+2]:\n",
    "            if t < 2*M and t >=0:\n",
    "                A[l,t] = -S_xx(l, x_c[t]) + V(x_c[t]) * S(l, x_c[t]) - E * S(l, x_c[t]) \n",
    "    \n",
    "    return scipy.linalg.det(A)"
   ]
  },
  {
   "cell_type": "code",
   "execution_count": 261,
   "id": "bd3a30f8",
   "metadata": {},
   "outputs": [
    {
     "name": "stdout",
     "output_type": "stream",
     "text": [
      "-4.65\n",
      "-3.3\n",
      "-3.2\n",
      "-1.0999999999999996\n",
      "-1.0499999999999998\n",
      "5\n"
     ]
    },
    {
     "data": {
      "image/png": "[encoded data removed]",
      "text/plain": [
       "<Figure size 432x288 with 1 Axes>"
      ]
     },
     "metadata": {
      "needs_background": "light"
     },
     "output_type": "display_data"
    }
   ],
   "source": [
    "e = np.linspace(V_0,0.0,100+1)\n",
    "det = np.zeros(len(e))\n",
    "count = 0\n",
    "spectrum = [None]\n",
    "\n",
    "for i in range(len(e)):\n",
    "    det[i] = F(e[i])\n",
    "    if i>0 and (det[i]>0) != (det[i-1]>0):\n",
    "        count += 1\n",
    "        print((e[i]+e[i])/2)\n",
    "    \n",
    "plt.plot(e,det)\n",
    "plt.axhline(y=0)\n",
    "print(count)"
   ]
  },
  {
   "cell_type": "code",
   "execution_count": 62,
   "id": "e528ce9c",
   "metadata": {},
   "outputs": [],
   "source": [
    "def null(A, eps=1e-15):\n",
    "    u, s, vh = np.linalg.svd(A)\n",
    "    null_space = np.compress(s <= eps, vh, axis=0)\n",
    "    return null_space.T"
   ]
  },
  {
   "cell_type": "code",
   "execution_count": 254,
   "id": "ac3ee469",
   "metadata": {},
   "outputs": [
    {
     "ename": "NameError",
     "evalue": "name 'A' is not defined",
     "output_type": "error",
     "traceback": [
      "\u001b[0;31m---------------------------------------------------------------------------\u001b[0m",
      "\u001b[0;31mNameError\u001b[0m                                 Traceback (most recent call last)",
      "\u001b[0;32m/tmp/ipykernel_16550/378453753.py\u001b[0m in \u001b[0;36m<cell line: 1>\u001b[0;34m()\u001b[0m\n\u001b[0;32m----> 1\u001b[0;31m \u001b[0mA\u001b[0m\u001b[0;34m\u001b[0m\u001b[0;34m\u001b[0m\u001b[0m\n\u001b[0m",
      "\u001b[0;31mNameError\u001b[0m: name 'A' is not defined"
     ]
    }
   ],
   "source": []
  },
  {
   "cell_type": "code",
   "execution_count": null,
   "id": "bbe10815",
   "metadata": {},
   "outputs": [],
   "source": []
  }
 ],
 "metadata": {
  "kernelspec": {
   "display_name": "Python 3 (ipykernel)",
   "language": "python",
   "name": "python3"
  },
  "language_info": {
   "codemirror_mode": {
    "name": "ipython",
    "version": 3
   },
   "file_extension": ".py",
   "mimetype": "text/x-python",
   "name": "python",
   "nbconvert_exporter": "python",
   "pygments_lexer": "ipython3",
   "version": "3.10.7"
  }
 },
 "nbformat": 4,
 "nbformat_minor": 5
}
