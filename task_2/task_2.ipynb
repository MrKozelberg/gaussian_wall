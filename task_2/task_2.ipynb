{
 "cells": [
  {
   "cell_type": "code",
   "execution_count": 1,
   "id": "bc8be30a",
   "metadata": {},
   "outputs": [],
   "source": [
    "import numpy as np\n",
    "import scipy\n",
    "import matplotlib.pyplot as plt"
   ]
  },
  {
   "cell_type": "code",
   "execution_count": 152,
   "id": "ddac4c33",
   "metadata": {},
   "outputs": [],
   "source": [
    "# constants\n",
    "V_0 = - 1.0\n",
    "R = 6.0\n",
    "M = 1000\n",
    "\n",
    "x = np.linspace(-R, R, M+1)\n",
    "delta = x[1] - x[0]"
   ]
  },
  {
   "cell_type": "code",
   "execution_count": 153,
   "id": "465d44ab",
   "metadata": {},
   "outputs": [],
   "source": [
    "def V(x):\n",
    "    return V_0 * np.exp(-x**2)\n",
    "\n",
    "# functions in S_{3,2}\n",
    "def phi(k, x_):\n",
    "    if x_ >= x[k] - delta and x_ < x[k] + delta:\n",
    "        return -1/delta**2 * (x_-x[k])**3 + (x_-x[k])\n",
    "    else:\n",
    "        return 0.0\n",
    "\n",
    "def psi(k, x_):\n",
    "    if x_ >= x[k] - delta and x_ < x[k] + delta:\n",
    "        return -1/delta**2 * (x_-x[k])**2 + 1\n",
    "    else:\n",
    "        return 0.0\n",
    "\n",
    "# second derivatives of these functions\n",
    "def phi_xx(k, x_):\n",
    "    return 0.0\n",
    "\n",
    "def psi_xx(k, x_):\n",
    "    if x_ >= x[k] - delta and x_ < x[k] + delta:\n",
    "        return -6/delta**2 * (x_-x[k])\n",
    "    else:\n",
    "        return 0.0\n",
    "\n",
    "# functions that form something like basis in S_{3,2}\n",
    "def S(l, x_):\n",
    "    if l == 0 or l == 2*M:\n",
    "        return psi(l, x_)\n",
    "    elif l % 2 == 1:\n",
    "        return psi(int((l+1)/2), x_)\n",
    "    else:\n",
    "        return phi(int(l/2), x_)\n",
    "\n",
    "# and their second derivatives\n",
    "def S_xx(l, x_):\n",
    "    if l == 0 or l == 2*M:\n",
    "        return psi_xx(l, x_)\n",
    "    elif l % 2 == 1:\n",
    "        return psi_xx(int((l+1)/2), x_)\n",
    "    else:\n",
    "        return phi_xx(int(l/2), x_)"
   ]
  },
  {
   "cell_type": "code",
   "execution_count": 154,
   "id": "b4a8f9ba",
   "metadata": {},
   "outputs": [],
   "source": [
    "# collocation points\n",
    "x_c = np.zeros(2*M)\n",
    "\n",
    "x_c[1::2] = x[:-1] + delta/2 - delta/2/np.sqrt(3)\n",
    "x_c[::2] = x[:-1] + delta/2 + delta/2/np.sqrt(3)"
   ]
  },
  {
   "cell_type": "code",
   "execution_count": 177,
   "id": "1382b07f",
   "metadata": {},
   "outputs": [],
   "source": [
    "# General matrix of the task and its determinant\n",
    "def residual(E):\n",
    "    # building the matrix\n",
    "    A = np.zeros((2*M, 2*M))\n",
    "    H = A\n",
    "    B = A\n",
    "                 \n",
    "    for l in range(2*M):\n",
    "        for t in [l-2, l-1, l, l+1, l+2]:\n",
    "            if t < 2*M and t >=0:\n",
    "                A[l, t] = -S_xx(l, x_c[t]) - V(x_c[t]) * S(l, x_c[t]) - E * S(l, x_c[t])\n",
    "                H[l, t] = -S_xx(l, x_c[t]) - V(x_c[t]) * S(l, x_c[t])\n",
    "                B[l, t] = S(l, x_c[t])\n",
    "    \n",
    "    return np.linalg.det(A)"
   ]
  },
  {
   "cell_type": "code",
   "execution_count": 179,
   "id": "a7b8c0bc",
   "metadata": {},
   "outputs": [
    {
     "data": {
      "text/plain": [
       "0.0"
      ]
     },
     "execution_count": 179,
     "metadata": {},
     "output_type": "execute_result"
    }
   ],
   "source": [
    "residual(-0.2)"
   ]
  },
  {
   "cell_type": "code",
   "execution_count": null,
   "id": "d2094c0b",
   "metadata": {},
   "outputs": [],
   "source": []
  }
 ],
 "metadata": {
  "kernelspec": {
   "display_name": "Python 3 (ipykernel)",
   "language": "python",
   "name": "python3"
  },
  "language_info": {
   "codemirror_mode": {
    "name": "ipython",
    "version": 3
   },
   "file_extension": ".py",
   "mimetype": "text/x-python",
   "name": "python",
   "nbconvert_exporter": "python",
   "pygments_lexer": "ipython3",
   "version": "3.10.7"
  }
 },
 "nbformat": 4,
 "nbformat_minor": 5
}
