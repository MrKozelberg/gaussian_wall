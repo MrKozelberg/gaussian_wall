{
 "cells": [
  {
   "cell_type": "code",
   "execution_count": 1,
   "id": "392ab801",
   "metadata": {},
   "outputs": [],
   "source": [
    "import numpy as np\n",
    "import scipy\n",
    "\n",
    "import matplotlib.pyplot as plt\n",
    "import matplotlib.colors as colors\n",
    "import matplotlib.cbook as cbook\n",
    "from matplotlib import cm\n",
    "    \n",
    "from datetime import datetime\n",
    "import time"
   ]
  },
  {
   "cell_type": "code",
   "execution_count": 2,
   "id": "e9026417",
   "metadata": {},
   "outputs": [],
   "source": [
    "class Exponenta:\n",
    "    \n",
    "    def __init__(self, v_0, R, M, tau, N):\n",
    "        self.v_0 = v_0\n",
    "        self.R = R\n",
    "        self.M = M\n",
    "        self.tau = tau\n",
    "        self.N = N\n",
    "        \n",
    "        self.x = np.linspace(-R, R, M+1)\n",
    "        self.delta = self.x[1] - self.x[0]\n",
    "        \n",
    "        # matrices\n",
    "        diag_T = 2/self.delta**2 * np.ones(M-1)\n",
    "        subdiag_T = -1/self.delta**2 * np.ones(M-2)\n",
    "        diags_T = [subdiag_T, diag_T, subdiag_T]\n",
    "        T = scipy.sparse.diags(diags_T,[-1,0,1]).toarray()\n",
    "        \n",
    "        I = scipy.sparse.eye(self.M-1).toarray()\n",
    "        expT_pade = (I + T * self.tau / 2) @ scipy.linalg.inv(I - T * self.tau / 2)\n",
    "        \n",
    "        diag_V = self.v_0*np.exp(-self.x[1:-1]**2)\n",
    "        diag_expV = np.exp(diag_V * self.tau / 2)\n",
    "        diags_expV = [diag_expV]\n",
    "        expV = scipy.sparse.diags(diags_expV,[0]).toarray()\n",
    "        \n",
    "        self.A = np.linalg.matrix_power(expV @ expT_pade @ expV, N)\n",
    "    \n",
    "    def many_E_arnoldi_iterantion(self, k):\n",
    "        w = scipy.sparse.linalg.eigs(self.A, k=k, return_eigenvectors=False)\n",
    "#         w = np.log(w.real) / (self.tau * self.N)\n",
    "        w = np.log(np.real(w)) / (e.tau * e.N)\n",
    "        return w[(w>self.v_0)*(w<0.0)]  "
   ]
  },
  {
   "cell_type": "code",
   "execution_count": 12,
   "id": "6207d2bc",
   "metadata": {},
   "outputs": [],
   "source": [
    "# constants\n",
    "v_0 = -5.0\n",
    "R = 6.0\n",
    "M = 1000\n",
    "tau = -1e-5\n",
    "N = 10\n",
    "\n",
    "e = Exponenta(v_0, R, M, tau, N)"
   ]
  },
  {
   "cell_type": "code",
   "execution_count": 13,
   "id": "89b3ace2",
   "metadata": {},
   "outputs": [
    {
     "data": {
      "text/plain": [
       "array([-0.40420461, -3.14035799])"
      ]
     },
     "execution_count": 13,
     "metadata": {},
     "output_type": "execute_result"
    }
   ],
   "source": [
    "e.many_E_arnoldi_iterantion(10)"
   ]
  },
  {
   "cell_type": "code",
   "execution_count": 99,
   "id": "13fd40bc",
   "metadata": {
    "scrolled": true
   },
   "outputs": [
    {
     "name": "stdout",
     "output_type": "stream",
     "text": [
      "m= 100 , t= 0:00:00.162622\n",
      "m= 148 , t= 0:00:00.171736\n",
      "m= 197 , t= 0:00:00.181652\n",
      "m= 246 , t= 0:00:00.230607\n",
      "m= 295 , t= 0:00:00.173299\n",
      "m= 344 , t= 0:00:00.177746\n",
      "m= 393 , t= 0:00:00.277061\n",
      "m= 442 , t= 0:00:00.364316\n",
      "m= 491 , t= 0:00:00.688401\n",
      "m= 540 , t= 0:00:00.796844\n",
      "m= 589 , t= 0:00:00.845778\n",
      "m= 638 , t= 0:00:00.962230\n",
      "m= 687 , t= 0:00:01.408774\n",
      "m= 736 , t= 0:00:01.591297\n",
      "m= 785 , t= 0:00:01.873056\n",
      "m= 834 , t= 0:00:01.843899\n",
      "m= 883 , t= 0:00:02.307708\n",
      "m= 932 , t= 0:00:02.813002\n",
      "m= 981 , t= 0:00:03.092016\n",
      "m= 1030 , t= 0:00:03.586206\n",
      "m= 1079 , t= 0:00:03.986426\n",
      "m= 1128 , t= 0:00:04.708168\n",
      "m= 1177 , t= 0:00:04.891802\n",
      "m= 1226 , t= 0:00:06.056992\n",
      "m= 1275 , t= 0:00:06.414472\n",
      "m= 1324 , t= 0:00:07.447063\n",
      "m= 1373 , t= 0:00:08.094838\n",
      "m= 1422 , t= 0:00:09.385440\n",
      "m= 1471 , t= 0:00:10.879241\n",
      "m= 1520 , t= 0:00:10.515245\n",
      "m= 1569 , t= 0:00:12.007838\n",
      "m= 1618 , t= 0:00:14.571412\n",
      "m= 1667 , t= 0:00:15.587367\n",
      "m= 1716 , t= 0:00:16.462726\n",
      "m= 1765 , t= 0:00:17.439557\n",
      "m= 1814 , t= 0:00:20.879046\n",
      "m= 1863 , t= 0:00:20.615935\n",
      "m= 1912 , t= 0:00:20.627910\n",
      "m= 1961 , t= 0:00:24.962606\n",
      "m= 2010 , t= 0:00:29.902617\n",
      "m= 2059 , t= 0:00:28.727412\n",
      "m= 2108 , t= 0:00:27.634418\n",
      "m= 2157 , t= 0:00:30.748674\n",
      "m= 2206 , t= 0:00:33.086724\n",
      "m= 2255 , t= 0:00:33.125785\n",
      "m= 2304 , t= 0:00:40.798179\n",
      "m= 2353 , t= 0:00:41.156416\n",
      "m= 2402 , t= 0:00:44.434109\n",
      "m= 2451 , t= 0:00:49.286117\n",
      "m= 2500 , t= 0:00:53.276745\n"
     ]
    }
   ],
   "source": [
    "v_0 = -5.0\n",
    "R = 6.0\n",
    "m = np.linspace(100, 5000, 50, dtype=int)\n",
    "tau = -1e-3\n",
    "N = 10\n",
    "t = [None] * len(m)\n",
    "\n",
    "for i in range(len(m)):\n",
    "    start_time = datetime.now()\n",
    "    \n",
    "    e = Exponenta(v_0, R, m[i], tau, N)\n",
    "    w = e.many_E_arnoldi_iterantion(10)\n",
    "    \n",
    "    t[i] = datetime.now() - start_time\n",
    "    \n",
    "    print('m=', m[i], ', t=', t[i])   "
   ]
  },
  {
   "cell_type": "code",
   "execution_count": 105,
   "id": "df9e51c3",
   "metadata": {},
   "outputs": [
    {
     "data": {
      "image/png": "[encoded data removed]",
      "text/plain": [
       "<Figure size 432x288 with 1 Axes>"
      ]
     },
     "metadata": {
      "needs_background": "light"
     },
     "output_type": "display_data"
    }
   ],
   "source": [
    "tt = [t_.seconds+t_.microseconds*1e-6 for t_ in t]\n",
    "\n",
    "p3 = np.poly1d(np.polyfit(m, tt, 3))\n",
    "p2 = np.poly1d(np.polyfit(m, tt, 2))\n",
    "mm = np.linspace(0, m[-1])\n",
    "\n",
    "plt.plot(m, tt, color='black', linewidth=1, label='Experimental results')\n",
    "\n",
    "plt.plot(mm, p3(mm), color='red', linewidth=1, linestyle='--', label=r'$O(M^3)$')\n",
    "plt.plot(mm, p2(mm), color='blue', linewidth=1, linestyle='--', label=r'$O(M^2)$')\n",
    "\n",
    "plt.xlabel(r'$M$', fontsize=14)\n",
    "plt.ylabel('T, sec', fontsize=14)\n",
    "\n",
    "plt.title(fr'$V_0={v_0},\\; R={R}$', fontsize=14)\n",
    "\n",
    "plt.xlim(m[0], m[-1])\n",
    "plt.ylim(0, None)\n",
    "\n",
    "plt.grid(alpha=0.5)\n",
    "plt.legend()\n",
    "\n",
    "plt.savefig(f'figures/T_vs_M_{e.v_0}.png', bbox_inches='tight')"
   ]
  },
  {
   "cell_type": "code",
   "execution_count": 93,
   "id": "d764a9fe",
   "metadata": {
    "scrolled": true
   },
   "outputs": [
    {
     "name": "stdout",
     "output_type": "stream",
     "text": [
      "0\n",
      "1\n",
      "2\n",
      "3\n",
      "4\n",
      "5\n",
      "6\n",
      "7\n",
      "8\n",
      "9\n"
     ]
    }
   ],
   "source": [
    "v_0 = -5.0\n",
    "R = 6.0\n",
    "M = 1000\n",
    "N = 10\n",
    "\n",
    "tau_ = -np.logspace(-3, -10, 10)\n",
    "\n",
    "E = []\n",
    "\n",
    "for i in range(len(tau_)):\n",
    "    print(i)\n",
    "    e = Exponenta(v_0, R, M, tau_[i], N)\n",
    "    w = e.many_E_arnoldi_iterantion(10)\n",
    "    E += [w]"
   ]
  },
  {
   "cell_type": "code",
   "execution_count": 95,
   "id": "66cfdcf3",
   "metadata": {},
   "outputs": [
    {
     "data": {
      "text/plain": [
       "(10, 2)"
      ]
     },
     "execution_count": 95,
     "metadata": {},
     "output_type": "execute_result"
    }
   ],
   "source": [
    "E = np.array(E)\n",
    "E.shape"
   ]
  },
  {
   "cell_type": "code",
   "execution_count": 96,
   "id": "3130f812",
   "metadata": {},
   "outputs": [
    {
     "data": {
      "image/png": "[encoded data removed]",
      "text/plain": [
       "<Figure size 432x288 with 1 Axes>"
      ]
     },
     "metadata": {
      "needs_background": "light"
     },
     "output_type": "display_data"
    }
   ],
   "source": [
    "# plt.scatter(-tau_, E[:,0]-E[-1,0], color='black', linewidth=1, label=r'$E_1$', marker='1')\n",
    "plt.scatter(abs(tau_), E[:,1]+3.1403, color='black', linewidth=1, label=r'$E_0$', marker='2')\n",
    "\n",
    "plt.axhline(y=3.1403-3.140334020243438, color='black', linewidth=1, linestyle='--', label=r'Reference $E_0$')\n",
    "\n",
    "plt.xlabel(r'$|\\tau|$', fontsize=14)\n",
    "plt.ylabel(r'Energy+3.1403', fontsize=14)\n",
    "\n",
    "plt.title(fr'$V_0={v_0},\\; R={R},\\; N={N},\\; M={M}$', fontsize=14)\n",
    "\n",
    "# plt.xlim(-tau_[0]+1e-3, -tau_[-1]-3e-10)\n",
    "# plt.ylim(0, None)\n",
    "\n",
    "plt.xscale('log')\n",
    "\n",
    "plt.grid(alpha=0.5)\n",
    "plt.legend()\n",
    "\n",
    "plt.savefig(f'figures/E_vs_tau_{e.v_0}.png', bbox_inches='tight')"
   ]
  },
  {
   "cell_type": "code",
   "execution_count": 58,
   "id": "af762141",
   "metadata": {},
   "outputs": [
    {
     "data": {
      "text/plain": [
       "array([-2.88971444e-05, -2.89507770e-05, -2.89812937e-05, -2.89986558e-05,\n",
       "       -2.90085359e-05, -2.90141582e-05, -2.90173547e-05, -2.90191805e-05,\n",
       "       -2.90202096e-05, -2.90207889e-05, -2.90211297e-05, -2.90213307e-05,\n",
       "       -2.90214230e-05, -2.90214467e-05, -2.90215499e-05, -2.90215887e-05,\n",
       "       -2.90213783e-05, -2.90210399e-05, -2.90201172e-05, -2.90193783e-05,\n",
       "       -2.90196940e-05, -2.90180665e-05, -2.90154852e-05, -2.90144339e-05,\n",
       "       -2.90154344e-05, -2.89995801e-05, -2.89895612e-05, -2.89878906e-05,\n",
       "       -2.89768732e-05, -2.89768858e-05, -2.89448238e-05, -2.89173011e-05,\n",
       "       -2.88864946e-05, -2.87986379e-05, -2.86718163e-05, -2.86143464e-05,\n",
       "       -2.83397192e-05, -2.84654556e-05, -2.80678320e-05, -2.77395106e-05,\n",
       "       -2.73604172e-05, -2.64938639e-05, -2.58445248e-05, -2.26581409e-05,\n",
       "       -2.01445586e-05, -1.78219132e-05, -2.28365082e-05, -1.05500328e-05,\n",
       "       -4.67614502e-06,  0.00000000e+00])"
      ]
     },
     "execution_count": 58,
     "metadata": {},
     "output_type": "execute_result"
    }
   ],
   "source": [
    "E[:,1]-E[-1,1]"
   ]
  },
  {
   "cell_type": "code",
   "execution_count": 27,
   "id": "03ac54d0",
   "metadata": {},
   "outputs": [
    {
     "data": {
      "text/plain": [
       "(-0.40420458467018594, -0.404151977733566)"
      ]
     },
     "execution_count": 27,
     "metadata": {},
     "output_type": "execute_result"
    }
   ],
   "source": [
    "E[-20,0], E[-1,0]"
   ]
  },
  {
   "cell_type": "code",
   "execution_count": 11,
   "id": "ce3f14d2",
   "metadata": {},
   "outputs": [
    {
     "data": {
      "text/plain": [
       "array([-3.14035787, -3.14035787, -3.14035787, -3.14035787, -3.14035787,\n",
       "       -3.14035787, -3.14035787, -3.14035787, -3.14035787, -3.14035787,\n",
       "       -3.14035787, -3.14035787, -3.14035787, -3.14035787, -3.14035787,\n",
       "       -3.14035787, -3.14035787, -3.14035787, -3.14035787, -3.14035787,\n",
       "       -3.14035787, -3.14035787, -3.14035787, -3.14035787, -3.14035787,\n",
       "       -3.14035787, -3.14035787, -3.14035787, -3.14035787, -3.14035787,\n",
       "       -3.14035787, -3.14035787, -3.14035787, -3.14035787, -3.14035787,\n",
       "       -3.14035787, -3.14035787, -3.14035787, -3.14035787, -3.14035787,\n",
       "       -3.14035787, -3.14035787, -3.14035787, -3.14035787, -3.14035787,\n",
       "       -3.14035787, -3.14035787, -3.14035787, -3.14035787, -3.14035787])"
      ]
     },
     "execution_count": 11,
     "metadata": {},
     "output_type": "execute_result"
    }
   ],
   "source": [
    "E[:,1]"
   ]
  },
  {
   "cell_type": "code",
   "execution_count": null,
   "id": "7f7236af",
   "metadata": {},
   "outputs": [],
   "source": []
  }
 ],
 "metadata": {
  "kernelspec": {
   "display_name": "Python 3 (ipykernel)",
   "language": "python",
   "name": "python3"
  },
  "language_info": {
   "codemirror_mode": {
    "name": "ipython",
    "version": 3
   },
   "file_extension": ".py",
   "mimetype": "text/x-python",
   "name": "python",
   "nbconvert_exporter": "python",
   "pygments_lexer": "ipython3",
   "version": "3.10.7"
  }
 },
 "nbformat": 4,
 "nbformat_minor": 5
}
