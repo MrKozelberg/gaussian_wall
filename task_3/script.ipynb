{
 "cells": [
  {
   "cell_type": "code",
   "execution_count": 48,
   "id": "3cb956b8",
   "metadata": {},
   "outputs": [],
   "source": [
    "import numpy as np\n",
    "import scipy\n",
    "import matplotlib.pyplot as plt\n",
    "import matplotlib.colors as colors\n",
    "import matplotlib.cbook as cbook\n",
    "from matplotlib import cm\n",
    "from datetime import datetime"
   ]
  },
  {
   "cell_type": "code",
   "execution_count": 51,
   "id": "fb218d78",
   "metadata": {},
   "outputs": [],
   "source": [
    "# constants\n",
    "v_0 = -5.0\n",
    "R = 15.0\n",
    "M = 1000\n",
    "\n",
    "x = np.linspace(-R, R, M+1)\n",
    "delta = x[1] - x[0]\n",
    "\n",
    "# matrix\n",
    "diag = 2/delta**2+v_0*np.exp(-x[1:-1]**2)\n",
    "subdiag = -1/delta**2 * np.ones(M-2)\n",
    "\n",
    "diags = [subdiag, diag, subdiag]\n",
    "\n",
    "H = scipy.sparse.diags(diags,[-1,0,1]).toarray()"
   ]
  },
  {
   "cell_type": "code",
   "execution_count": 66,
   "id": "69c7339f",
   "metadata": {},
   "outputs": [
    {
     "name": "stdout",
     "output_type": "stream",
     "text": [
      "[-3.14048429 -0.40635647]\n"
     ]
    }
   ],
   "source": [
    "e = scipy.linalg.eigvalsh_tridiagonal(diag, subdiag, select='v', select_range=(v_0,0.0))\n",
    "print(e)"
   ]
  },
  {
   "cell_type": "code",
   "execution_count": 67,
   "id": "0a8bcfa4",
   "metadata": {},
   "outputs": [
    {
     "data": {
      "text/plain": [
       "4444.395414961617"
      ]
     },
     "execution_count": 67,
     "metadata": {},
     "output_type": "execute_result"
    }
   ],
   "source": [
    "e_max = np.max(scipy.linalg.eigvalsh_tridiagonal(diag, subdiag*np.ones(M-2)))\n",
    "e_max"
   ]
  },
  {
   "cell_type": "code",
   "execution_count": 68,
   "id": "526743af",
   "metadata": {},
   "outputs": [
    {
     "data": {
      "text/plain": [
       "4444.395414961624"
      ]
     },
     "execution_count": 68,
     "metadata": {},
     "output_type": "execute_result"
    }
   ],
   "source": [
    "np.max(np.real(scipy.linalg.eigvals(H)))"
   ]
  },
  {
   "cell_type": "code",
   "execution_count": 71,
   "id": "c95d94c4",
   "metadata": {},
   "outputs": [
    {
     "data": {
      "text/plain": [
       "-3.140484287037907"
      ]
     },
     "execution_count": 71,
     "metadata": {},
     "output_type": "execute_result"
    }
   ],
   "source": [
    "H_ = H - e_max/2.0 * scipy.sparse.identity(M-1).toarray()\n",
    "\n",
    "np.min(np.real(scipy.linalg.eigvals(H_))) + e_max/2.0"
   ]
  },
  {
   "cell_type": "code",
   "execution_count": 78,
   "id": "ed01895d",
   "metadata": {},
   "outputs": [
    {
     "data": {
      "text/plain": [
       "(-3.1392174820598484, 4441.4289634666)"
      ]
     },
     "execution_count": 78,
     "metadata": {},
     "output_type": "execute_result"
    }
   ],
   "source": [
    "phi_1 = np.exp(-x[1:-1]**2) / scipy.linalg.norm(np.exp(-x[1:-1]**2))\n",
    "\n",
    "num_iter = 1000\n",
    "\n",
    "for i in range(num_iter):\n",
    "    phi_2 = H @ phi_1\n",
    "    \n",
    "#     l = np.dot(phi_2, phi_1)\n",
    "    \n",
    "#     print(i, l + e_max/2.0)\n",
    "    \n",
    "    phi_1 = phi_2 / scipy.linalg.norm(phi_2)\n",
    "    \n",
    "e_max = np.dot(phi_2, phi_1)\n",
    "\n",
    "H_ = H - e_max/2.0 * scipy.sparse.identity(M-1).toarray()\n",
    "\n",
    "phi_1 = np.exp(-x[1:-1]**2) / scipy.linalg.norm(np.exp(-x[1:-1]**2))\n",
    "\n",
    "num_iter = 1001\n",
    "\n",
    "for i in range(num_iter):\n",
    "    phi_2 = H_ @ phi_1\n",
    "    \n",
    "#     l = np.dot(phi_2, phi_1)\n",
    "    \n",
    "#     print(i, l + e_max/2.0)\n",
    "    \n",
    "    phi_1 = phi_2 / scipy.linalg.norm(phi_2)\n",
    "    \n",
    "-np.dot(phi_2, phi_1) + e_max/2.0, e_max"
   ]
  },
  {
   "cell_type": "code",
   "execution_count": 92,
   "id": "311d58ef",
   "metadata": {},
   "outputs": [],
   "source": [
    "def iter_m(num_iter, A, x):\n",
    "    \n",
    "    phi_1 = np.exp(-x[1:-1]**2) / scipy.linalg.norm(np.exp(-x[1:-1]**2))\n",
    "    \n",
    "    for i in range(num_iter):\n",
    "        phi_2 = A @ phi_1    \n",
    "        phi_1 = phi_2 / scipy.linalg.norm(phi_2)\n",
    "    \n",
    "    return abs(np.dot(phi_2, phi_1))\n",
    "\n",
    "def iter_method_time(v_0, R, M):\n",
    "    start_time = datetime.now()\n",
    "    \n",
    "    x = np.linspace(-R, R, M+1)\n",
    "    delta = x[1] - x[0]\n",
    "    \n",
    "    # matrix\n",
    "    diag = 2/delta**2+v_0*np.exp(-x[1:-1]**2)\n",
    "    subdiag = -1/delta**2 * np.ones(M-2)\n",
    "\n",
    "    diags = [subdiag, diag, subdiag]\n",
    "\n",
    "    H = scipy.sparse.diags(diags,[-1,0,1]).toarray()\n",
    "    \n",
    "    e_max = iter_m(1000, H, x)\n",
    "    \n",
    "    H_ = H - e_max/2.0 * scipy.sparse.identity(M-1).toarray()\n",
    "    \n",
    "    e_1 = -iter_m(1000, H_, x) + e_max/2.0\n",
    "\n",
    "    return (datetime.now() - start_time), e_1\n"
   ]
  },
  {
   "cell_type": "code",
   "execution_count": 95,
   "id": "67dadf17",
   "metadata": {},
   "outputs": [
    {
     "name": "stdout",
     "output_type": "stream",
     "text": [
      "0 1000 0:00:01.745593 -3.1109121380141005\n",
      "1 2000 0:00:05.843912 -3.0918328284751624\n",
      "2 3000 0:00:07.941875 -3.0868877206667094\n",
      "3 4000 0:00:13.156278 -3.0850164997391403\n",
      "4 5000 0:00:21.001884 -3.0841205716715194\n",
      "5 6000 0:00:30.755726 -3.08362592587946\n",
      "6 7000 0:00:41.647820 -3.0833259691717103\n",
      "7 8000 0:00:56.314249 -3.0831296528922394\n",
      "8 9000 0:01:05.604326 -3.0829945274163038\n",
      "9 10000 0:01:37.960818 -3.0828978354111314\n"
     ]
    }
   ],
   "source": [
    "N = 10\n",
    "mm = np.arange(1,N+1)*1000\n",
    "t = [None] * N\n",
    "e_1 = np.zeros(N)\n",
    "\n",
    "for i in range(N):\n",
    "    t[i], e_1[i] = iter_method_time(-5.0, 6.0, mm[i])\n",
    "    print(i, mm[i], t[i], e_1[i])"
   ]
  },
  {
   "cell_type": "code",
   "execution_count": 99,
   "id": "320de1aa",
   "metadata": {},
   "outputs": [
    {
     "data": {
      "text/plain": [
       "datetime.timedelta(seconds=97, microseconds=960818)"
      ]
     },
     "execution_count": 99,
     "metadata": {},
     "output_type": "execute_result"
    }
   ],
   "source": [
    "t[-1]"
   ]
  },
  {
   "cell_type": "code",
   "execution_count": 101,
   "id": "34e751db",
   "metadata": {},
   "outputs": [],
   "source": [
    "tt = [t_.seconds+t_.microseconds*1e-6 for t_ in t]"
   ]
  },
  {
   "cell_type": "code",
   "execution_count": 112,
   "id": "89b8928f",
   "metadata": {},
   "outputs": [
    {
     "data": {
      "image/png": "[encoded data removed]",
      "text/plain": [
       "<Figure size 432x288 with 1 Axes>"
      ]
     },
     "metadata": {
      "needs_background": "light"
     },
     "output_type": "display_data"
    }
   ],
   "source": [
    "plt.plot(mm, tt, linewidth=1.0, color='black')\n",
    "plt.xlabel('Total amount of grid points', fontsize=14)\n",
    "plt.ylabel('Time, seconds', fontsize=14)\n",
    "plt.grid(axis='y')\n",
    "\n",
    "plt.ylim(0,100)\n",
    "\n",
    "plt.savefig('figures/t_vs_m.png')"
   ]
  },
  {
   "cell_type": "code",
   "execution_count": 113,
   "id": "13da9354",
   "metadata": {},
   "outputs": [
    {
     "data": {
      "image/png": "[encoded data removed]",
      "text/plain": [
       "<Figure size 432x288 with 1 Axes>"
      ]
     },
     "metadata": {
      "needs_background": "light"
     },
     "output_type": "display_data"
    }
   ],
   "source": [
    "plt.plot(mm, e_1, linewidth=1.0, color='black')\n",
    "plt.axhline(y=-3.140334020243438, color='red', linestyle='--')\n",
    "plt.xlabel('Total amount of grid points', fontsize=14)\n",
    "plt.ylabel('E_1', fontsize=14)\n",
    "plt.grid(axis='y')\n",
    "\n",
    "# plt.ylim(0,100)\n",
    "\n",
    "plt.savefig('figures/e1_vs_m.png')"
   ]
  },
  {
   "cell_type": "code",
   "execution_count": null,
   "id": "4b47d622",
   "metadata": {},
   "outputs": [],
   "source": []
  }
 ],
 "metadata": {
  "kernelspec": {
   "display_name": "Python 3 (ipykernel)",
   "language": "python",
   "name": "python3"
  },
  "language_info": {
   "codemirror_mode": {
    "name": "ipython",
    "version": 3
   },
   "file_extension": ".py",
   "mimetype": "text/x-python",
   "name": "python",
   "nbconvert_exporter": "python",
   "pygments_lexer": "ipython3",
   "version": "3.10.7"
  }
 },
 "nbformat": 4,
 "nbformat_minor": 5
}
