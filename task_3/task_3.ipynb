{
 "cells": [
  {
   "cell_type": "code",
   "execution_count": 2,
   "id": "3cb956b8",
   "metadata": {},
   "outputs": [],
   "source": [
    "import numpy as np\n",
    "import scipy\n",
    "import matplotlib.pyplot as plt\n",
    "import matplotlib.colors as colors\n",
    "import matplotlib.cbook as cbook\n",
    "from matplotlib import cm\n",
    "from datetime import datetime"
   ]
  },
  {
   "cell_type": "code",
   "execution_count": 3,
   "id": "fb218d78",
   "metadata": {},
   "outputs": [],
   "source": [
    "# constants\n",
    "v_0 = -5.0\n",
    "R = 15.0\n",
    "M = 1000\n",
    "\n",
    "x = np.linspace(-R, R, M+1)\n",
    "delta = x[1] - x[0]\n",
    "\n",
    "# matrix\n",
    "diag = 2/delta**2+v_0*np.exp(-x[1:-1]**2)\n",
    "subdiag = -1/delta**2 * np.ones(M-2)\n",
    "\n",
    "diags = [subdiag, diag, subdiag]\n",
    "\n",
    "H = scipy.sparse.diags(diags,[-1,0,1]).toarray()"
   ]
  },
  {
   "cell_type": "code",
   "execution_count": 4,
   "id": "69c7339f",
   "metadata": {},
   "outputs": [
    {
     "name": "stdout",
     "output_type": "stream",
     "text": [
      "[-3.14048429 -0.40635647]\n"
     ]
    }
   ],
   "source": [
    "e = scipy.linalg.eigvalsh_tridiagonal(diag, subdiag, select='v', select_range=(v_0,0.0))\n",
    "print(e)"
   ]
  },
  {
   "cell_type": "code",
   "execution_count": 5,
   "id": "0a8bcfa4",
   "metadata": {},
   "outputs": [
    {
     "data": {
      "text/plain": [
       "4444.395414961617"
      ]
     },
     "execution_count": 5,
     "metadata": {},
     "output_type": "execute_result"
    }
   ],
   "source": [
    "e_max = np.max(scipy.linalg.eigvalsh_tridiagonal(diag, subdiag*np.ones(M-2)))\n",
    "e_max"
   ]
  },
  {
   "cell_type": "code",
   "execution_count": 6,
   "id": "526743af",
   "metadata": {},
   "outputs": [
    {
     "data": {
      "text/plain": [
       "4444.395414961624"
      ]
     },
     "execution_count": 6,
     "metadata": {},
     "output_type": "execute_result"
    }
   ],
   "source": [
    "np.max(np.real(scipy.linalg.eigvals(H)))"
   ]
  },
  {
   "cell_type": "code",
   "execution_count": 7,
   "id": "c95d94c4",
   "metadata": {},
   "outputs": [
    {
     "data": {
      "text/plain": [
       "-3.140484287037907"
      ]
     },
     "execution_count": 7,
     "metadata": {},
     "output_type": "execute_result"
    }
   ],
   "source": [
    "H_ = H - e_max/2.0 * scipy.sparse.identity(M-1).toarray()\n",
    "\n",
    "np.min(np.real(scipy.linalg.eigvals(H_))) + e_max/2.0"
   ]
  },
  {
   "cell_type": "code",
   "execution_count": 15,
   "id": "ed01895d",
   "metadata": {},
   "outputs": [
    {
     "data": {
      "text/plain": [
       "(-3.1392174820598484, 4441.4289634666)"
      ]
     },
     "execution_count": 15,
     "metadata": {},
     "output_type": "execute_result"
    }
   ],
   "source": [
    "phi_1 = np.exp(-x[1:-1]**2) / scipy.linalg.norm(np.exp(-x[1:-1]**2))\n",
    "\n",
    "num_iter = 1000\n",
    "\n",
    "for i in range(num_iter):\n",
    "    phi_2 = H @ phi_1\n",
    "    \n",
    "#     l = np.dot(phi_2, phi_1)\n",
    "    \n",
    "#     print(i, l + e_max/2.0)\n",
    "    \n",
    "    phi_1 = phi_2 / scipy.linalg.norm(phi_2)\n",
    "    \n",
    "e_max = np.dot(phi_2, phi_1)\n",
    "\n",
    "H_ = H - e_max/2.0 * scipy.sparse.identity(M-1).toarray()\n",
    "\n",
    "phi_1 = np.exp(-x[1:-1]**2) / scipy.linalg.norm(np.exp(-x[1:-1]**2))\n",
    "\n",
    "num_iter = 1001\n",
    "\n",
    "for i in range(num_iter):\n",
    "    phi_2 = H_ @ phi_1\n",
    "    \n",
    "#     l = np.dot(phi_2, phi_1)\n",
    "    \n",
    "#     print(i, l + e_max/2.0)\n",
    "    \n",
    "    phi_1 = phi_2 / scipy.linalg.norm(phi_2)\n",
    "    \n",
    "-np.dot(phi_2, phi_1) + e_max/2.0, e_max"
   ]
  },
  {
   "cell_type": "code",
   "execution_count": 24,
   "id": "311d58ef",
   "metadata": {},
   "outputs": [],
   "source": [
    "def iter_m(num_iter, A, x):\n",
    "    \n",
    "    phi_1 = np.exp(-x[1:-1]**2) / scipy.linalg.norm(np.exp(-x[1:-1]**2))\n",
    "    \n",
    "    for i in range(num_iter):\n",
    "        phi_2 = A @ phi_1    \n",
    "        phi_1 = phi_2 / scipy.linalg.norm(phi_2)\n",
    "    \n",
    "    return abs(np.dot(phi_2, phi_1)), phi_1\n",
    "\n",
    "def iter_method_time(v_0, R, M):\n",
    "    start_time = datetime.now()\n",
    "    \n",
    "    x = np.linspace(-R, R, M+1)\n",
    "    delta = x[1] - x[0]\n",
    "    \n",
    "    # matrix\n",
    "    diag = 2/delta**2+v_0*np.exp(-x[1:-1]**2)\n",
    "    subdiag = -1/delta**2 * np.ones(M-2)\n",
    "\n",
    "    diags = [subdiag, diag, subdiag]\n",
    "\n",
    "    H = scipy.sparse.diags(diags,[-1,0,1]).toarray()\n",
    "    \n",
    "    e_max, _ = iter_m(1000, H, x)\n",
    "    \n",
    "    H_ = H - e_max/2.0 * scipy.sparse.identity(M-1).toarray()\n",
    "    \n",
    "    e_min, phi = iter_m(1000, H_, x)\n",
    "    \n",
    "    e_1 = -e_min + e_max/2.0\n",
    "    \n",
    "    residual = scipy.linalg.norm(H @ phi - e_1 * phi)\n",
    "\n",
    "    return (datetime.now() - start_time), e_1, residual\n"
   ]
  },
  {
   "cell_type": "code",
   "execution_count": 39,
   "id": "67dadf17",
   "metadata": {},
   "outputs": [
    {
     "name": "stdout",
     "output_type": "stream",
     "text": [
      "0 (datetime.timedelta(microseconds=146496), -3.142745894258695, 4.948562631895013e-12)\n",
      "1 (datetime.timedelta(microseconds=99721), -3.140935486677108, 0.0004919801724043624)\n",
      "2 (datetime.timedelta(microseconds=156661), -3.1405130433249724, 0.018065975513275385)\n",
      "3 (datetime.timedelta(microseconds=180330), -3.1392125651891547, 0.07065402766537351)\n",
      "4 (datetime.timedelta(microseconds=232336), -3.135765686628929, 0.13818878044923605)\n",
      "5 (datetime.timedelta(microseconds=415759), -3.130721669902414, 0.20200039707163248)\n",
      "6 (datetime.timedelta(microseconds=564465), -3.1251363200426567, 0.2562594106535799)\n",
      "7 (datetime.timedelta(seconds=1, microseconds=135750), -3.119811082666274, 0.30006370249870423)\n",
      "8 (datetime.timedelta(seconds=1, microseconds=325335), -3.115033075107931, 0.33536023865716735)\n",
      "9 (datetime.timedelta(seconds=1, microseconds=277484), -3.1109121380141005, 0.3637214220266797)\n",
      "10 (datetime.timedelta(seconds=1, microseconds=522650), -3.1073797518874926, 0.3869119955688701)\n",
      "11 (datetime.timedelta(seconds=1, microseconds=857022), -3.1043948535079835, 0.4058960245723429)\n",
      "12 (datetime.timedelta(seconds=2, microseconds=111296), -3.101862107781926, 0.4216624652655435)\n",
      "13 (datetime.timedelta(seconds=2, microseconds=479222), -3.099694144784735, 0.43496149904499154)\n",
      "14 (datetime.timedelta(seconds=2, microseconds=881072), -3.0978571340237977, 0.44611728955765667)\n",
      "15 (datetime.timedelta(seconds=3, microseconds=225483), -3.0962834580423078, 0.455608039908283)\n",
      "16 (datetime.timedelta(seconds=3, microseconds=753638), -3.0949266605020966, 0.46375180835339946)\n",
      "17 (datetime.timedelta(seconds=2, microseconds=810792), -3.0937453170699882, 0.4708190781804446)\n",
      "18 (datetime.timedelta(seconds=3, microseconds=485397), -3.0927250080785598, 0.47690908910969826)\n",
      "19 (datetime.timedelta(seconds=3, microseconds=687644), -3.0918328284751624, 0.48222613824511623)\n",
      "20 (datetime.timedelta(seconds=4, microseconds=111739), -3.091038703249069, 0.48695398625398023)\n",
      "21 (datetime.timedelta(seconds=4, microseconds=118350), -3.090347499688505, 0.4910663064541847)\n",
      "22 (datetime.timedelta(seconds=4, microseconds=521769), -3.0897311990265734, 0.4947315342943837)\n",
      "23 (datetime.timedelta(seconds=4, microseconds=876210), -3.08918349443411, 0.4979881020736674)\n",
      "24 (datetime.timedelta(seconds=5, microseconds=405007), -3.0886951327120187, 0.5008915782268208)\n",
      "25 (datetime.timedelta(seconds=5, microseconds=896145), -3.088255615788512, 0.5035046885661318)\n",
      "26 (datetime.timedelta(seconds=6, microseconds=336506), -3.087859865932842, 0.5058577673016654)\n",
      "27 (datetime.timedelta(seconds=7, microseconds=54605), -3.0875038418889744, 0.5079748957179111)\n",
      "28 (datetime.timedelta(seconds=7, microseconds=143060), -3.0871805911156116, 0.5098974344413608)\n",
      "29 (datetime.timedelta(seconds=7, microseconds=867207), -3.0868877206667094, 0.5116395867795044)\n"
     ]
    }
   ],
   "source": [
    "N = 30\n",
    "mm = np.arange(1,N+1)*100\n",
    "t = [None] * N\n",
    "e_1 = np.zeros(N)\n",
    "residual = np.zeros(N)\n",
    "\n",
    "for i in range(N):\n",
    "    t[i], e_1[i], residual[i] = iter_method_time(-5.0, 6.0, mm[i]) \n",
    "    print(i, iter_method_time(-5.0, 6.0, mm[i]))"
   ]
  },
  {
   "cell_type": "code",
   "execution_count": 40,
   "id": "34e751db",
   "metadata": {},
   "outputs": [],
   "source": [
    "tt = [t_.seconds+t_.microseconds*1e-6 for t_ in t]"
   ]
  },
  {
   "cell_type": "code",
   "execution_count": 41,
   "id": "89b8928f",
   "metadata": {},
   "outputs": [
    {
     "data": {
      "image/png": "[encoded data removed]",
      "text/plain": [
       "<Figure size 432x288 with 1 Axes>"
      ]
     },
     "metadata": {
      "needs_background": "light"
     },
     "output_type": "display_data"
    }
   ],
   "source": [
    "plt.plot(mm, tt, linewidth=1.0, color='black')\n",
    "plt.xlabel('Total amount of grid points', fontsize=14)\n",
    "plt.ylabel('Time, seconds', fontsize=14)\n",
    "plt.grid(axis='y')\n",
    "\n",
    "# plt.ylim(0,100)\n",
    "\n",
    "plt.savefig('figures/t_vs_m.png')"
   ]
  },
  {
   "cell_type": "code",
   "execution_count": 42,
   "id": "13da9354",
   "metadata": {},
   "outputs": [
    {
     "data": {
      "image/png": "[encoded data removed]",
      "text/plain": [
       "<Figure size 432x288 with 1 Axes>"
      ]
     },
     "metadata": {
      "needs_background": "light"
     },
     "output_type": "display_data"
    }
   ],
   "source": [
    "plt.plot(mm, e_1, linewidth=1.0, color='black')\n",
    "plt.axhline(y=-3.140334020243438, color='red', linestyle='--')\n",
    "plt.xlabel('Total amount of grid points', fontsize=14)\n",
    "plt.ylabel('E_1', fontsize=14)\n",
    "plt.grid(axis='y')\n",
    "\n",
    "# plt.ylim(0,100)\n",
    "\n",
    "plt.savefig('figures/e1_vs_m.png')"
   ]
  },
  {
   "cell_type": "code",
   "execution_count": 44,
   "id": "b84de6ef",
   "metadata": {},
   "outputs": [
    {
     "data": {
      "image/png": "[encoded data removed]",
      "text/plain": [
       "<Figure size 432x288 with 1 Axes>"
      ]
     },
     "metadata": {
      "needs_background": "light"
     },
     "output_type": "display_data"
    }
   ],
   "source": [
    "plt.plot(mm, residual, linewidth=1.0, color='black')\n",
    "plt.xlabel('Total amount of grid points', fontsize=14)\n",
    "plt.ylabel('Residual', fontsize=14)\n",
    "plt.grid(axis='y')\n",
    "\n",
    "plt.ylim(0,None)\n",
    "\n",
    "plt.savefig('figures/r_vs_m.png')"
   ]
  },
  {
   "cell_type": "code",
   "execution_count": null,
   "id": "c5396f9c",
   "metadata": {},
   "outputs": [],
   "source": []
  }
 ],
 "metadata": {
  "kernelspec": {
   "display_name": "Python 3 (ipykernel)",
   "language": "python",
   "name": "python3"
  },
  "language_info": {
   "codemirror_mode": {
    "name": "ipython",
    "version": 3
   },
   "file_extension": ".py",
   "mimetype": "text/x-python",
   "name": "python",
   "nbconvert_exporter": "python",
   "pygments_lexer": "ipython3",
   "version": "3.10.7"
  }
 },
 "nbformat": 4,
 "nbformat_minor": 5
}
