{
 "cells": [
  {
   "cell_type": "code",
   "execution_count": 1,
   "id": "392ab801",
   "metadata": {},
   "outputs": [],
   "source": [
    "import numpy as np\n",
    "import matplotlib.pyplot as plt\n",
    "\n",
    "import scipy"
   ]
  },
  {
   "cell_type": "code",
   "execution_count": 2,
   "id": "39fccb76",
   "metadata": {},
   "outputs": [],
   "source": [
    "# constants\n",
    "v_0 = -1.0\n",
    "R = 6.0\n",
    "M = 1000\n",
    "\n",
    "x = np.linspace(-R, R, M+1)\n",
    "delta = x[1] - x[0]\n",
    "\n",
    "# matrices\n",
    "diag_T = 2/delta**2\n",
    "subdiag_T = -1/delta**2 * np.ones(M-2)\n",
    "\n",
    "diag_V = v_0*np.exp(-x[1:-1]**2)\n",
    "\n",
    "diags_T = [subdiag_T, diag_T, subdiag_T]\n",
    "T = scipy.sparse.diags(diags_T,[-1,0,1]).toarray()\n",
    "\n",
    "diags_V = [diag_V]\n",
    "V = scipy.sparse.diags(diags_V,[0]).toarray()"
   ]
  },
  {
   "cell_type": "markdown",
   "id": "0af874a6",
   "metadata": {},
   "source": [
    "# Ground state"
   ]
  },
  {
   "cell_type": "code",
   "execution_count": 3,
   "id": "d51cf86d",
   "metadata": {},
   "outputs": [],
   "source": [
    "R = lambda z : scipy.linalg.inv(T - z * scipy.sparse.eye(M-1).toarray())\n",
    "L = lambda z : - R(z) @ V\n",
    "\n",
    "def lambda_0(z):\n",
    "    L_ = L(z)\n",
    "    \n",
    "    lambda_z = 0.0\n",
    "    phi_1 = np.exp(-x[1:-1]**2) / scipy.linalg.norm(np.exp(-x[1:-1]**2))\n",
    "    \n",
    "    while scipy.linalg.norm(L_ @ phi_1 - lambda_z * phi_1) > 1e-4:\n",
    "        phi_2 = L_ @ phi_1\n",
    "    \n",
    "        phi_1 = phi_2 / scipy.linalg.norm(phi_2)\n",
    "    \n",
    "        lambda_z = np.dot(phi_2, phi_1)\n",
    "    \n",
    "    return lambda_z"
   ]
  },
  {
   "cell_type": "code",
   "execution_count": 4,
   "id": "e991f425",
   "metadata": {
    "scrolled": true
   },
   "outputs": [
    {
     "name": "stdout",
     "output_type": "stream",
     "text": [
      "0\n",
      "10\n",
      "20\n",
      "30\n",
      "40\n",
      "50\n",
      "60\n",
      "70\n",
      "80\n",
      "90\n"
     ]
    }
   ],
   "source": [
    "z = np.linspace(v_0,0.0,100)\n",
    "lambda_0_ = np.full(len(z), np.nan)\n",
    "\n",
    "for i in range(len(z)):\n",
    "    if i % 10 == 0:\n",
    "        print(i)\n",
    "    lambda_0_[i] = lambda_0(z[i])"
   ]
  },
  {
   "cell_type": "code",
   "execution_count": 5,
   "id": "31fe1307",
   "metadata": {},
   "outputs": [
    {
     "data": {
      "text/plain": [
       "-0.3525682174889015"
      ]
     },
     "execution_count": 5,
     "metadata": {},
     "output_type": "execute_result"
    }
   ],
   "source": [
    "lambda_0_cs = scipy.interpolate.CubicSpline(z, lambda_0_)\n",
    "\n",
    "sol = scipy.optimize.root_scalar(lambda x: lambda_0_cs(x) - 1.0, bracket=[v_0, 0.0], method='brentq')\n",
    "sol.root"
   ]
  },
  {
   "cell_type": "code",
   "execution_count": 6,
   "id": "9714684f",
   "metadata": {},
   "outputs": [
    {
     "data": {
      "image/png": "[encoded data removed]",
      "text/plain": [
       "<Figure size 432x288 with 1 Axes>"
      ]
     },
     "metadata": {
      "needs_background": "light"
     },
     "output_type": "display_data"
    }
   ],
   "source": [
    "plt.plot(z, lambda_0_, color='black', linewidth=1, label=r'$\\lambda_0(z)$')\n",
    "plt.axhline(y=1, linestyle='--', color='black', linewidth=2)\n",
    "plt.axvline(x=sol.root, linewidth=2, linestyle=':', color='red', label=fr'$E_0 = {sol.root:>0.2f}$')\n",
    "\n",
    "plt.legend()\n",
    "plt.xlim(v_0,0.0)\n",
    "plt.ylim(0.0,5)\n",
    "plt.xlabel(r'$z$')\n",
    "plt.ylabel(r'$\\lambda(z)$')\n",
    "plt.title(fr'$V_0 = {v_0:>0.2f}$')\n",
    "\n",
    "plt.savefig(f'figures/{v_0}_l0.png', dpi=250)"
   ]
  },
  {
   "cell_type": "markdown",
   "id": "0429136d",
   "metadata": {},
   "source": [
    "# Other states too"
   ]
  },
  {
   "cell_type": "code",
   "execution_count": 7,
   "id": "cefb729e",
   "metadata": {},
   "outputs": [],
   "source": [
    "def arnoldi_iteration(A, b, n: int):\n",
    "    \"\"\"Computes a basis of the (n + 1)-Krylov subspace of A: the space\n",
    "    spanned by {b, Ab, ..., A^n b}.\n",
    "\n",
    "    Arguments\n",
    "      A: m × m array\n",
    "      b: initial vector (length m)\n",
    "      n: dimension of Krylov subspace, must be >= 1\n",
    "    \n",
    "    Returns\n",
    "      Q: m x (n + 1) array, the columns are an orthonormal basis of the\n",
    "        Krylov subspace.\n",
    "      h: (n + 1) x n array, A on basis Q. It is upper Hessenberg.  \n",
    "    \"\"\"\n",
    "    eps = 1e-12\n",
    "    h = np.zeros((n+1,n))\n",
    "    Q = np.zeros((A.shape[0],n+1))\n",
    "     # Normalize the input vector\n",
    "    Q[:,0] =b/np.linalg.norm(b,2)   # Use it as the first Krylov vector\n",
    "    for k in range(1,n+1):\n",
    "        v = np.dot(A,Q[:,k-1])  # Generate a new candidate vector\n",
    "        for j in range(k):  # Subtract the projections on previous vectors\n",
    "            h[j,k-1] = np.dot(Q[:,j].T, v)\n",
    "            v = v - h[j,k-1] * Q[:,j]\n",
    "        h[k,k-1] = np.linalg.norm(v,2)\n",
    "        if h[k,k-1] > eps:  # Add the produced vector to the list, unless\n",
    "            Q[:,k] = v/h[k,k-1]\n",
    "        else:  # If that happens, stop iterating.\n",
    "            return Q, h\n",
    "    return Q, h\n",
    "\n",
    "def lambda_z(z,n):\n",
    "    Q, h = arnoldi_iteration(L(z), np.random.rand(len(x[1:-1])), n=n)\n",
    "    return np.real(scipy.linalg.eigvals(h[:-1]))"
   ]
  },
  {
   "cell_type": "code",
   "execution_count": 8,
   "id": "08fbd09f",
   "metadata": {},
   "outputs": [
    {
     "name": "stdout",
     "output_type": "stream",
     "text": [
      "0\n",
      "10\n",
      "20\n",
      "30\n",
      "40\n",
      "50\n",
      "60\n",
      "70\n",
      "80\n",
      "90\n"
     ]
    }
   ],
   "source": [
    "n = 200 # how many branches of lambda with wich we want to deal \n",
    "\n",
    "z = np.linspace(v_0,0.0,100)\n",
    "lambda_ = np.full((n, len(z)), np.nan)\n",
    "\n",
    "for i in range(len(z)):\n",
    "    if i % 10 == 0:\n",
    "        print(i)\n",
    "    lambda_[:,i] = lambda_z(z[i],n)"
   ]
  },
  {
   "cell_type": "code",
   "execution_count": 9,
   "id": "c0be746d",
   "metadata": {},
   "outputs": [
    {
     "name": "stdout",
     "output_type": "stream",
     "text": [
      "0 -0.3525628107808904\n"
     ]
    },
    {
     "data": {
      "image/png": "[encoded data removed]",
      "text/plain": [
       "<Figure size 432x288 with 1 Axes>"
      ]
     },
     "metadata": {
      "needs_background": "light"
     },
     "output_type": "display_data"
    }
   ],
   "source": [
    "for i in range(5):\n",
    "    lambda_cs = scipy.interpolate.CubicSpline(z, lambda_[i])\n",
    "    \n",
    "    if (lambda_cs(v_0)<1) and (lambda_cs(0.0)>1):\n",
    "        sol = scipy.optimize.root_scalar(lambda x: lambda_cs(x) - 1.0, bracket=[v_0, 0.0], method='brentq')\n",
    "        print(i, sol.root)\n",
    "        plt.axvline(x=sol.root, linewidth=1, color=f'C{i+5}', linestyle=':', label=fr'$E_{i} = {sol.root:>0.2f}$')\n",
    "    \n",
    "    plt.plot(z, lambda_[i], linewidth=1, label=fr'$\\lambda_{i}(z)$')\n",
    "    \n",
    "    \n",
    "plt.axhline(y=1, linestyle='--', color='black', linewidth=2)\n",
    "\n",
    "\n",
    "plt.legend()\n",
    "plt.xlim(v_0,0.0)\n",
    "plt.ylim(0.0,5)\n",
    "plt.xlabel(r'$z$')\n",
    "plt.ylabel(r'$\\lambda(z)$')\n",
    "plt.title(fr'$V_0 = {v_0:>0.2f}$')\n",
    "\n",
    "plt.savefig(f'figures/{v_0}_l{5}.png', dpi=250)"
   ]
  },
  {
   "cell_type": "code",
   "execution_count": null,
   "id": "b3e50f52",
   "metadata": {},
   "outputs": [],
   "source": []
  }
 ],
 "metadata": {
  "kernelspec": {
   "display_name": "Python 3 (ipykernel)",
   "language": "python",
   "name": "python3"
  },
  "language_info": {
   "codemirror_mode": {
    "name": "ipython",
    "version": 3
   },
   "file_extension": ".py",
   "mimetype": "text/x-python",
   "name": "python",
   "nbconvert_exporter": "python",
   "pygments_lexer": "ipython3",
   "version": "3.10.7"
  }
 },
 "nbformat": 4,
 "nbformat_minor": 5
}
